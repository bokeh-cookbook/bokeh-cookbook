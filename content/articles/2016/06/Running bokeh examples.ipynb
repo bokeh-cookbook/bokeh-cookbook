{
 "cells": [
  {
   "cell_type": "markdown",
   "metadata": {},
   "source": [
    "Bokeh has a few examples up in the [bokeh gallery](http://bokeh.pydata.org/en/latest/docs/gallery.html), but there's a rich, and somewhat hidden, resource - the bokeh examples directory. \n",
    "\n",
    "Here we'll look at how to run and play with the bokeh examples."
   ]
  },
  {
   "cell_type": "markdown",
   "metadata": {},
   "source": [
    "## Getting the correct examples\n",
    "\n",
    "The most important thing is to make sure you're running the examples that match the version of bokeh you're running. Find your bokeh version as follows"
   ]
  },
  {
   "cell_type": "code",
   "execution_count": 9,
   "metadata": {
    "collapsed": false
   },
   "outputs": [
    {
     "data": {
      "text/plain": [
       "'0.11.1'"
      ]
     },
     "execution_count": 9,
     "metadata": {},
     "output_type": "execute_result"
    }
   ],
   "source": [
    "from bokeh import __version__\n",
    "__version__"
   ]
  },
  {
   "cell_type": "markdown",
   "metadata": {},
   "source": [
    "There are a few of options for getting the examples. In increasing order of difficulty:\n",
    "* download a zip that I made\n",
    "* find the examples installed when you conda installed bokeh\n",
    "* run from your local build of bokeh"
   ]
  },
  {
   "cell_type": "markdown",
   "metadata": {},
   "source": [
    "## Download a pre-made zip\n",
    "\n",
    "``coming soon``"
   ]
  },
  {
   "cell_type": "markdown",
   "metadata": {},
   "source": [
    "## Find in your conda installation\n",
    "\n",
    "From the command line you can find where bokeh is running from, and from this we can find our examples. First find bokeh with `which bokeh`: \n",
    "\n",
    "```sh\n",
    "(bokeh)➜  pages git:(master) ✗ which bokeh\n",
    "/Users/birdsarah/miniconda3/envs/bokeh/bin/bokeh\n",
    "```\n",
    "\n",
    "Next go to the directory one above bin. In my case that's `/Users/birdsarah/miniconda3/envs/bokeh`\n",
    "\n",
    "```sh \n",
    " $ cd /Users/birdsarah/miniconda3/envs/bokeh\n",
    "```\n",
    "\n",
    "In that directory you should find a directory called `Examples`. This is where all the bokeh examples live."
   ]
  },
  {
   "cell_type": "markdown",
   "metadata": {},
   "source": [
    "## Running with locally installed bokeh (advanced)\n",
    "\n",
    "If you're hacking on bokeh bokeh you may want to run the examples against your local version of bokeh. \n",
    "\n",
    "##### Background on bokeh \"Resources\"\n",
    "\n",
    "Bokeh has a default setting which is helpful for regular bokeh users but can confuse new Bokeh developers. Bokeh has two parts to it the python part (`from bokeh import ...`) and the javascript part (aka bokehjs). By default bokeh uses a pre-built version of bokehjs that lives on our cdn. This is super useful for users because it means that the html they produce isn't full of the bokehjs library. However, the pre-built version of bokehjs will be the latest release version and is almost certainly not compatible with bokeh master which we're downloading an running locally.\n",
    "\n",
    "Which version of bokehjs we're using is managed through `bokeh.resources` and you can read more here: http://bokeh.pydata.org/en/dev/docs/reference/resources.html\n",
    "\n",
    "##### Using environment variables\n",
    "\n",
    "We have a set of environment variables that we can set so that bokeh just does the right thing when we're developing. You can see a complete list here: http://bokeh.pydata.org/en/dev/docs/dev_guide/env_vars.html\n",
    "\n",
    "I often use `BOKEH_DEV=true` but that can have the side effect of running "
   ]
  }
 ],
 "metadata": {
  "kernelspec": {
   "display_name": "Python 3",
   "language": "python",
   "name": "python3"
  },
  "language_info": {
   "codemirror_mode": {
    "name": "ipython",
    "version": 3
   },
   "file_extension": ".py",
   "mimetype": "text/x-python",
   "name": "python",
   "nbconvert_exporter": "python",
   "pygments_lexer": "ipython3",
   "version": "3.5.1"
  }
 },
 "nbformat": 4,
 "nbformat_minor": 0
}

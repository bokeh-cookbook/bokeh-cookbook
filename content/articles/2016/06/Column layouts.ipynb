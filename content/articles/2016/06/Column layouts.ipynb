{
 "cells": [
  {
   "cell_type": "code",
   "execution_count": 1,
   "metadata": {
    "collapsed": false
   },
   "outputs": [
    {
     "data": {
      "text/plain": [
       "'0.12.0dev10'"
      ]
     },
     "execution_count": 1,
     "metadata": {},
     "output_type": "execute_result"
    }
   ],
   "source": [
    "from bokeh import __version__\n",
    "__version__"
   ]
  },
  {
   "cell_type": "code",
   "execution_count": 2,
   "metadata": {
    "collapsed": false
   },
   "outputs": [
    {
     "data": {
      "text/html": [
       "\n",
       "    <div class=\"bk-banner\">\n",
       "        <a href=\"http://bokeh.pydata.org\" target=\"_blank\" class=\"bk-logo bk-logo-small bk-logo-notebook\"></a>\n",
       "        <span id=\"737e197d-ecbb-4774-a605-60c8855d50c3\">Loading BokehJS ...</span>\n",
       "    </div>"
      ]
     },
     "metadata": {},
     "output_type": "display_data"
    },
    {
     "data": {
      "application/javascript": [
       "\n",
       "(function(global) {\n",
       "  function now() {\n",
       "    return new Date();\n",
       "  }\n",
       "\n",
       "  if (typeof (window._bokeh_onload_callbacks) === \"undefined\") {\n",
       "    window._bokeh_onload_callbacks = [];\n",
       "  }\n",
       "\n",
       "  function run_callbacks() {\n",
       "    window._bokeh_onload_callbacks.forEach(function(callback) { callback() });\n",
       "    delete window._bokeh_onload_callbacks\n",
       "    console.info(\"Bokeh: all callbacks have finished\");\n",
       "  }\n",
       "\n",
       "  function load_libs(js_urls, callback) {\n",
       "    window._bokeh_onload_callbacks.push(callback);\n",
       "    if (window._bokeh_is_loading > 0) {\n",
       "      console.log(\"Bokeh: BokehJS is being loaded, scheduling callback at\", now());\n",
       "      return null;\n",
       "    }\n",
       "    if (js_urls == null || js_urls.length === 0) {\n",
       "      run_callbacks();\n",
       "      return null;\n",
       "    }\n",
       "    console.log(\"Bokeh: BokehJS not loaded, scheduling load and callback at\", now());\n",
       "    window._bokeh_is_loading = js_urls.length;\n",
       "    for (var i = 0; i < js_urls.length; i++) {\n",
       "      var url = js_urls[i];\n",
       "      var s = document.createElement('script');\n",
       "      s.src = url;\n",
       "      s.async = false;\n",
       "      s.onreadystatechange = s.onload = function() {\n",
       "        window._bokeh_is_loading--;\n",
       "        if (window._bokeh_is_loading === 0) {\n",
       "          console.log(\"Bokeh: all BokehJS libraries loaded\");\n",
       "          run_callbacks()\n",
       "        }\n",
       "      };\n",
       "      s.onerror = function() {\n",
       "        console.warn(\"failed to load library \" + url);\n",
       "      };\n",
       "      console.log(\"Bokeh: injecting script tag for BokehJS library: \", url);\n",
       "      document.getElementsByTagName(\"head\")[0].appendChild(s);\n",
       "    }\n",
       "  };\n",
       "\n",
       "  var js_urls = ['https://cdn.pydata.org/bokeh/dev/bokeh-0.12.0dev10.min.js', 'https://cdn.pydata.org/bokeh/dev/bokeh-widgets-0.12.0dev10.min.js', 'https://cdn.pydata.org/bokeh/dev/bokeh-compiler-0.12.0dev10.min.js'];\n",
       "\n",
       "  var inline_js = [\n",
       "    function(Bokeh) {\n",
       "      Bokeh.set_log_level(\"info\");\n",
       "    },\n",
       "    \n",
       "    function(Bokeh) {\n",
       "      Bokeh.$(\"#737e197d-ecbb-4774-a605-60c8855d50c3\").text(\"BokehJS successfully loaded\");\n",
       "    },\n",
       "    function(Bokeh) {\n",
       "      console.log(\"Bokeh: injecting CSS: https://cdn.pydata.org/bokeh/dev/bokeh-0.12.0dev10.min.css\");\n",
       "      Bokeh.embed.inject_css(\"https://cdn.pydata.org/bokeh/dev/bokeh-0.12.0dev10.min.css\");\n",
       "      console.log(\"Bokeh: injecting CSS: https://cdn.pydata.org/bokeh/dev/bokeh-widgets-0.12.0dev10.min.css\");\n",
       "      Bokeh.embed.inject_css(\"https://cdn.pydata.org/bokeh/dev/bokeh-widgets-0.12.0dev10.min.css\");\n",
       "    }\n",
       "  ];\n",
       "\n",
       "  function run_inline_js() {\n",
       "    for (var i = 0; i < inline_js.length; i++) {\n",
       "      inline_js[i](window.Bokeh);\n",
       "    }\n",
       "  }\n",
       "\n",
       "  if (window._bokeh_is_loading === 0) {\n",
       "    console.log(\"Bokeh: BokehJS loaded, going straight to plotting\");\n",
       "    run_inline_js();\n",
       "  } else {\n",
       "    load_libs(js_urls, function() {\n",
       "      console.log(\"Bokeh: BokehJS plotting callback run at\", now());\n",
       "      run_inline_js();\n",
       "    });\n",
       "  }\n",
       "}(this));"
      ]
     },
     "metadata": {},
     "output_type": "display_data"
    }
   ],
   "source": [
    "from bokeh.io import output_notebook, show\n",
    "output_notebook()"
   ]
  },
  {
   "cell_type": "markdown",
   "metadata": {},
   "source": [
    "When using the new layout Row & Column it's important that all responsive modes in a given layout are the same."
   ]
  },
  {
   "cell_type": "markdown",
   "metadata": {},
   "source": [
    "First we set-up a simple function to make a plot that we can re-use."
   ]
  },
  {
   "cell_type": "code",
   "execution_count": 6,
   "metadata": {
    "collapsed": true
   },
   "outputs": [],
   "source": [
    "from bokeh.plotting import figure\n",
    "def make_plot(responsive=False):\n",
    "    p = figure(responsive=responsive, width=400, height=100)\n",
    "    p.scatter(x=[1, 2], y=[3, 4], size=20)\n",
    "    return p"
   ]
  },
  {
   "cell_type": "markdown",
   "metadata": {},
   "source": [
    "Let's set-up a Column with two plots in it, all with `responsive=True`"
   ]
  },
  {
   "cell_type": "code",
   "execution_count": 4,
   "metadata": {
    "collapsed": false
   },
   "outputs": [
    {
     "data": {
      "text/html": [
       "\n",
       "\n",
       "    <div class=\"bk-root\">\n",
       "        <div class=\"plotdiv\" id=\"002221e6-197e-45c0-848f-bd7a517576a8\"></div>\n",
       "    </div>\n",
       "<script type=\"text/javascript\">\n",
       "  \n",
       "  (function(global) {\n",
       "    function now() {\n",
       "      return new Date();\n",
       "    }\n",
       "  \n",
       "    if (typeof (window._bokeh_onload_callbacks) === \"undefined\") {\n",
       "      window._bokeh_onload_callbacks = [];\n",
       "    }\n",
       "  \n",
       "    function run_callbacks() {\n",
       "      window._bokeh_onload_callbacks.forEach(function(callback) { callback() });\n",
       "      delete window._bokeh_onload_callbacks\n",
       "      console.info(\"Bokeh: all callbacks have finished\");\n",
       "    }\n",
       "  \n",
       "    function load_libs(js_urls, callback) {\n",
       "      window._bokeh_onload_callbacks.push(callback);\n",
       "      if (window._bokeh_is_loading > 0) {\n",
       "        console.log(\"Bokeh: BokehJS is being loaded, scheduling callback at\", now());\n",
       "        return null;\n",
       "      }\n",
       "      if (js_urls == null || js_urls.length === 0) {\n",
       "        run_callbacks();\n",
       "        return null;\n",
       "      }\n",
       "      console.log(\"Bokeh: BokehJS not loaded, scheduling load and callback at\", now());\n",
       "      window._bokeh_is_loading = js_urls.length;\n",
       "      for (var i = 0; i < js_urls.length; i++) {\n",
       "        var url = js_urls[i];\n",
       "        var s = document.createElement('script');\n",
       "        s.src = url;\n",
       "        s.async = false;\n",
       "        s.onreadystatechange = s.onload = function() {\n",
       "          window._bokeh_is_loading--;\n",
       "          if (window._bokeh_is_loading === 0) {\n",
       "            console.log(\"Bokeh: all BokehJS libraries loaded\");\n",
       "            run_callbacks()\n",
       "          }\n",
       "        };\n",
       "        s.onerror = function() {\n",
       "          console.warn(\"failed to load library \" + url);\n",
       "        };\n",
       "        console.log(\"Bokeh: injecting script tag for BokehJS library: \", url);\n",
       "        document.getElementsByTagName(\"head\")[0].appendChild(s);\n",
       "      }\n",
       "    };var element = document.getElementById(\"002221e6-197e-45c0-848f-bd7a517576a8\");\n",
       "    if (element == null) {\n",
       "      console.log(\"Bokeh: ERROR: autoload.js configured with elementid '002221e6-197e-45c0-848f-bd7a517576a8' but no matching script tag was found. \")\n",
       "      return false;\n",
       "    }\n",
       "  \n",
       "    var js_urls = [];\n",
       "  \n",
       "    var inline_js = [\n",
       "      function(Bokeh) {\n",
       "        Bokeh.$(function() {\n",
       "            var docs_json = {\"b86d01b1-0518-4266-8543-abd5508e3c8c\":{\"roots\":{\"references\":[{\"attributes\":{},\"id\":\"f690927d-3f4a-4e55-abac-ced75f2d927b\",\"type\":\"BasicTicker\"},{\"attributes\":{\"plot\":{\"id\":\"05a32739-467f-4993-ad19-8af596228bc4\",\"subtype\":\"Figure\",\"type\":\"Plot\"}},\"id\":\"d843889c-c420-4950-91d2-d374bd0b748c\",\"type\":\"PanTool\"},{\"attributes\":{},\"id\":\"b8983765-e769-4323-bab5-d82c5e0867a4\",\"type\":\"BasicTickFormatter\"},{\"attributes\":{\"children\":[{\"id\":\"05a32739-467f-4993-ad19-8af596228bc4\",\"subtype\":\"Figure\",\"type\":\"Plot\"},{\"id\":\"2c45ec8e-93a8-453e-a79b-9f887d3d558d\",\"subtype\":\"Figure\",\"type\":\"Plot\"}],\"responsive\":\"width_ar\"},\"id\":\"31cad3d7-e5d2-45c6-b122-d2411750e387\",\"type\":\"Column\"},{\"attributes\":{\"overlay\":{\"id\":\"9820fe28-fcc1-4767-9098-535d76790c3c\",\"type\":\"BoxAnnotation\"},\"plot\":{\"id\":\"05a32739-467f-4993-ad19-8af596228bc4\",\"subtype\":\"Figure\",\"type\":\"Plot\"}},\"id\":\"d0cc61cc-75fa-4337-9426-8d5f37b3ab74\",\"type\":\"BoxZoomTool\"},{\"attributes\":{\"plot\":{\"id\":\"2c45ec8e-93a8-453e-a79b-9f887d3d558d\",\"subtype\":\"Figure\",\"type\":\"Plot\"}},\"id\":\"5cd35342-f209-4d4e-af41-e4972baa4d74\",\"type\":\"PanTool\"},{\"attributes\":{\"plot\":{\"id\":\"2c45ec8e-93a8-453e-a79b-9f887d3d558d\",\"subtype\":\"Figure\",\"type\":\"Plot\"}},\"id\":\"4284272d-b2af-4670-9115-009dfb84ac50\",\"type\":\"ResizeTool\"},{\"attributes\":{\"plot\":{\"id\":\"2c45ec8e-93a8-453e-a79b-9f887d3d558d\",\"subtype\":\"Figure\",\"type\":\"Plot\"}},\"id\":\"8fba584b-35a2-4eeb-8947-9f0d8bc04448\",\"type\":\"HelpTool\"},{\"attributes\":{\"data_source\":{\"id\":\"06c91a34-3215-4488-ab66-3a743f410e69\",\"type\":\"ColumnDataSource\"},\"glyph\":{\"id\":\"f29084f3-4291-4644-b738-e77435158b89\",\"type\":\"Circle\"},\"hover_glyph\":null,\"nonselection_glyph\":{\"id\":\"55042a00-bc0f-4d81-bdf1-3bb4c9435d24\",\"type\":\"Circle\"},\"selection_glyph\":null},\"id\":\"44199b5a-4dd9-410c-bd21-d6b373cf715b\",\"type\":\"GlyphRenderer\"},{\"attributes\":{},\"id\":\"9b90be56-73a5-4447-8548-e9b81712e97f\",\"type\":\"BasicTickFormatter\"},{\"attributes\":{},\"id\":\"f4e1d02e-c239-434d-9a1c-20da7cc8486f\",\"type\":\"BasicTicker\"},{\"attributes\":{\"tools\":[{\"id\":\"5cd35342-f209-4d4e-af41-e4972baa4d74\",\"type\":\"PanTool\"},{\"id\":\"d7174220-ff26-4aaf-88a2-177d53b6fcbe\",\"type\":\"WheelZoomTool\"},{\"id\":\"1b4ddfb2-ef16-4f4e-9fab-a54429c60eb3\",\"type\":\"BoxZoomTool\"},{\"id\":\"6c4fea74-d1c5-45de-9ada-9c59dfb3b878\",\"type\":\"SaveTool\"},{\"id\":\"4284272d-b2af-4670-9115-009dfb84ac50\",\"type\":\"ResizeTool\"},{\"id\":\"9aa900c0-fd85-4c5a-9f79-04f16281820e\",\"type\":\"ResetTool\"},{\"id\":\"8fba584b-35a2-4eeb-8947-9f0d8bc04448\",\"type\":\"HelpTool\"}]},\"id\":\"ca8c005b-13c6-4507-b449-9fd08414772f\",\"type\":\"Toolbar\"},{\"attributes\":{\"plot\":{\"id\":\"05a32739-467f-4993-ad19-8af596228bc4\",\"subtype\":\"Figure\",\"type\":\"Plot\"}},\"id\":\"00fac0a2-e9b4-4b94-8501-f613818e556b\",\"type\":\"SaveTool\"},{\"attributes\":{\"overlay\":{\"id\":\"882a5e42-7261-498c-9635-46c4ea3c0a55\",\"type\":\"BoxAnnotation\"},\"plot\":{\"id\":\"2c45ec8e-93a8-453e-a79b-9f887d3d558d\",\"subtype\":\"Figure\",\"type\":\"Plot\"}},\"id\":\"1b4ddfb2-ef16-4f4e-9fab-a54429c60eb3\",\"type\":\"BoxZoomTool\"},{\"attributes\":{\"plot\":{\"id\":\"2c45ec8e-93a8-453e-a79b-9f887d3d558d\",\"subtype\":\"Figure\",\"type\":\"Plot\"}},\"id\":\"6c4fea74-d1c5-45de-9ada-9c59dfb3b878\",\"type\":\"SaveTool\"},{\"attributes\":{},\"id\":\"643d1f7e-1da7-41e7-b532-1b2b5613c99a\",\"type\":\"BasicTickFormatter\"},{\"attributes\":{\"dimension\":1,\"plot\":{\"id\":\"2c45ec8e-93a8-453e-a79b-9f887d3d558d\",\"subtype\":\"Figure\",\"type\":\"Plot\"},\"ticker\":{\"id\":\"f4e1d02e-c239-434d-9a1c-20da7cc8486f\",\"type\":\"BasicTicker\"}},\"id\":\"a8e867ab-cbb2-48cd-a424-47abd5ec1966\",\"type\":\"Grid\"},{\"attributes\":{\"formatter\":{\"id\":\"643d1f7e-1da7-41e7-b532-1b2b5613c99a\",\"type\":\"BasicTickFormatter\"},\"plot\":{\"id\":\"05a32739-467f-4993-ad19-8af596228bc4\",\"subtype\":\"Figure\",\"type\":\"Plot\"},\"ticker\":{\"id\":\"64a7a1e4-8ac6-4efc-b6a0-1f2f45a90285\",\"type\":\"BasicTicker\"}},\"id\":\"4d6c3c24-faad-414d-ba30-0b4e912d63b4\",\"type\":\"LinearAxis\"},{\"attributes\":{\"data_source\":{\"id\":\"bafb3110-a591-4aa1-86be-6238f0aaac54\",\"type\":\"ColumnDataSource\"},\"glyph\":{\"id\":\"574e02a5-6c4f-4da3-a524-f6eb0dbe3efb\",\"type\":\"Circle\"},\"hover_glyph\":null,\"nonselection_glyph\":{\"id\":\"64e68e9d-9203-4e9e-a60d-d4c841b72a14\",\"type\":\"Circle\"},\"selection_glyph\":null},\"id\":\"f6bdc99d-5f5e-4fe4-9710-d4a4333e820f\",\"type\":\"GlyphRenderer\"},{\"attributes\":{\"plot\":{\"id\":\"2c45ec8e-93a8-453e-a79b-9f887d3d558d\",\"subtype\":\"Figure\",\"type\":\"Plot\"}},\"id\":\"9aa900c0-fd85-4c5a-9f79-04f16281820e\",\"type\":\"ResetTool\"},{\"attributes\":{\"fill_color\":{\"value\":\"#1f77b4\"},\"line_color\":{\"value\":\"#1f77b4\"},\"size\":{\"units\":\"screen\",\"value\":20},\"x\":{\"field\":\"x\"},\"y\":{\"field\":\"y\"}},\"id\":\"574e02a5-6c4f-4da3-a524-f6eb0dbe3efb\",\"type\":\"Circle\"},{\"attributes\":{\"below\":[{\"id\":\"fa3d7365-3ce6-4a39-838b-0f5bfbee6393\",\"type\":\"LinearAxis\"}],\"left\":[{\"id\":\"7b29f5c2-20fe-452f-87e2-421022cdb556\",\"type\":\"LinearAxis\"}],\"plot_height\":100,\"plot_width\":400,\"renderers\":[{\"id\":\"fa3d7365-3ce6-4a39-838b-0f5bfbee6393\",\"type\":\"LinearAxis\"},{\"id\":\"70ae5a7c-dd4b-415c-adb9-e128d3feee01\",\"type\":\"Grid\"},{\"id\":\"7b29f5c2-20fe-452f-87e2-421022cdb556\",\"type\":\"LinearAxis\"},{\"id\":\"a8e867ab-cbb2-48cd-a424-47abd5ec1966\",\"type\":\"Grid\"},{\"id\":\"882a5e42-7261-498c-9635-46c4ea3c0a55\",\"type\":\"BoxAnnotation\"},{\"id\":\"44199b5a-4dd9-410c-bd21-d6b373cf715b\",\"type\":\"GlyphRenderer\"}],\"responsive\":\"width_ar\",\"tool_events\":{\"id\":\"9ca6059c-51c7-4a0d-8887-f1cc80317475\",\"type\":\"ToolEvents\"},\"toolbar\":{\"id\":\"ca8c005b-13c6-4507-b449-9fd08414772f\",\"type\":\"Toolbar\"},\"x_range\":{\"id\":\"8fb1c867-822e-4e2b-8338-13e578173471\",\"type\":\"DataRange1d\"},\"y_range\":{\"id\":\"a25877ec-4d92-4b97-8226-4aef846f2633\",\"type\":\"DataRange1d\"}},\"id\":\"2c45ec8e-93a8-453e-a79b-9f887d3d558d\",\"subtype\":\"Figure\",\"type\":\"Plot\"},{\"attributes\":{\"plot\":{\"id\":\"05a32739-467f-4993-ad19-8af596228bc4\",\"subtype\":\"Figure\",\"type\":\"Plot\"}},\"id\":\"b5eb3094-8c93-4a01-b357-a541bc681537\",\"type\":\"ResetTool\"},{\"attributes\":{\"dimension\":1,\"plot\":{\"id\":\"05a32739-467f-4993-ad19-8af596228bc4\",\"subtype\":\"Figure\",\"type\":\"Plot\"},\"ticker\":{\"id\":\"64a7a1e4-8ac6-4efc-b6a0-1f2f45a90285\",\"type\":\"BasicTicker\"}},\"id\":\"39b5fbc9-39fd-4522-907e-c9ace3ffbbe0\",\"type\":\"Grid\"},{\"attributes\":{\"callback\":null},\"id\":\"0e467c76-e3af-431e-95cc-052a3addfd54\",\"type\":\"DataRange1d\"},{\"attributes\":{\"plot\":{\"id\":\"2c45ec8e-93a8-453e-a79b-9f887d3d558d\",\"subtype\":\"Figure\",\"type\":\"Plot\"}},\"id\":\"d7174220-ff26-4aaf-88a2-177d53b6fcbe\",\"type\":\"WheelZoomTool\"},{\"attributes\":{\"callback\":null},\"id\":\"8fb1c867-822e-4e2b-8338-13e578173471\",\"type\":\"DataRange1d\"},{\"attributes\":{\"bottom_units\":\"screen\",\"fill_alpha\":{\"value\":0.5},\"fill_color\":{\"value\":\"lightgrey\"},\"left_units\":\"screen\",\"level\":\"overlay\",\"line_alpha\":{\"value\":1.0},\"line_color\":{\"value\":\"black\"},\"line_dash\":[4,4],\"line_width\":{\"value\":2},\"plot\":null,\"render_mode\":\"css\",\"right_units\":\"screen\",\"top_units\":\"screen\"},\"id\":\"882a5e42-7261-498c-9635-46c4ea3c0a55\",\"type\":\"BoxAnnotation\"},{\"attributes\":{},\"id\":\"9ca6059c-51c7-4a0d-8887-f1cc80317475\",\"type\":\"ToolEvents\"},{\"attributes\":{\"plot\":{\"id\":\"05a32739-467f-4993-ad19-8af596228bc4\",\"subtype\":\"Figure\",\"type\":\"Plot\"}},\"id\":\"c3f3bf65-097e-4e6c-90de-8b08fdb68f53\",\"type\":\"WheelZoomTool\"},{\"attributes\":{\"plot\":{\"id\":\"2c45ec8e-93a8-453e-a79b-9f887d3d558d\",\"subtype\":\"Figure\",\"type\":\"Plot\"},\"ticker\":{\"id\":\"f690927d-3f4a-4e55-abac-ced75f2d927b\",\"type\":\"BasicTicker\"}},\"id\":\"70ae5a7c-dd4b-415c-adb9-e128d3feee01\",\"type\":\"Grid\"},{\"attributes\":{\"fill_alpha\":{\"value\":0.1},\"fill_color\":{\"value\":\"#1f77b4\"},\"line_alpha\":{\"value\":0.1},\"line_color\":{\"value\":\"#1f77b4\"},\"size\":{\"units\":\"screen\",\"value\":20},\"x\":{\"field\":\"x\"},\"y\":{\"field\":\"y\"}},\"id\":\"55042a00-bc0f-4d81-bdf1-3bb4c9435d24\",\"type\":\"Circle\"},{\"attributes\":{\"plot\":{\"id\":\"05a32739-467f-4993-ad19-8af596228bc4\",\"subtype\":\"Figure\",\"type\":\"Plot\"},\"ticker\":{\"id\":\"93666888-e30a-4604-9e9d-d7baf9a1149d\",\"type\":\"BasicTicker\"}},\"id\":\"4816c7f9-45e7-4f68-aff5-a0c4ff3dad93\",\"type\":\"Grid\"},{\"attributes\":{\"plot\":{\"id\":\"05a32739-467f-4993-ad19-8af596228bc4\",\"subtype\":\"Figure\",\"type\":\"Plot\"}},\"id\":\"88ba0056-88bf-4c2a-9011-b66f8457df4d\",\"type\":\"HelpTool\"},{\"attributes\":{\"formatter\":{\"id\":\"9140fe94-f0a4-4a9b-b09f-5e3a8cb355dd\",\"type\":\"BasicTickFormatter\"},\"plot\":{\"id\":\"2c45ec8e-93a8-453e-a79b-9f887d3d558d\",\"subtype\":\"Figure\",\"type\":\"Plot\"},\"ticker\":{\"id\":\"f690927d-3f4a-4e55-abac-ced75f2d927b\",\"type\":\"BasicTicker\"}},\"id\":\"fa3d7365-3ce6-4a39-838b-0f5bfbee6393\",\"type\":\"LinearAxis\"},{\"attributes\":{\"bottom_units\":\"screen\",\"fill_alpha\":{\"value\":0.5},\"fill_color\":{\"value\":\"lightgrey\"},\"left_units\":\"screen\",\"level\":\"overlay\",\"line_alpha\":{\"value\":1.0},\"line_color\":{\"value\":\"black\"},\"line_dash\":[4,4],\"line_width\":{\"value\":2},\"plot\":null,\"render_mode\":\"css\",\"right_units\":\"screen\",\"top_units\":\"screen\"},\"id\":\"9820fe28-fcc1-4767-9098-535d76790c3c\",\"type\":\"BoxAnnotation\"},{\"attributes\":{},\"id\":\"93666888-e30a-4604-9e9d-d7baf9a1149d\",\"type\":\"BasicTicker\"},{\"attributes\":{\"tools\":[{\"id\":\"d843889c-c420-4950-91d2-d374bd0b748c\",\"type\":\"PanTool\"},{\"id\":\"c3f3bf65-097e-4e6c-90de-8b08fdb68f53\",\"type\":\"WheelZoomTool\"},{\"id\":\"d0cc61cc-75fa-4337-9426-8d5f37b3ab74\",\"type\":\"BoxZoomTool\"},{\"id\":\"00fac0a2-e9b4-4b94-8501-f613818e556b\",\"type\":\"SaveTool\"},{\"id\":\"a4529b48-1810-4119-ac28-80c7e63a8c3c\",\"type\":\"ResizeTool\"},{\"id\":\"b5eb3094-8c93-4a01-b357-a541bc681537\",\"type\":\"ResetTool\"},{\"id\":\"88ba0056-88bf-4c2a-9011-b66f8457df4d\",\"type\":\"HelpTool\"}]},\"id\":\"b37c999b-3008-44f9-bc22-c8768daa8190\",\"type\":\"Toolbar\"},{\"attributes\":{},\"id\":\"9140fe94-f0a4-4a9b-b09f-5e3a8cb355dd\",\"type\":\"BasicTickFormatter\"},{\"attributes\":{},\"id\":\"64a7a1e4-8ac6-4efc-b6a0-1f2f45a90285\",\"type\":\"BasicTicker\"},{\"attributes\":{\"below\":[{\"id\":\"ebc5386a-5866-45be-a203-92f2d8645970\",\"type\":\"LinearAxis\"}],\"left\":[{\"id\":\"4d6c3c24-faad-414d-ba30-0b4e912d63b4\",\"type\":\"LinearAxis\"}],\"plot_height\":100,\"plot_width\":400,\"renderers\":[{\"id\":\"ebc5386a-5866-45be-a203-92f2d8645970\",\"type\":\"LinearAxis\"},{\"id\":\"4816c7f9-45e7-4f68-aff5-a0c4ff3dad93\",\"type\":\"Grid\"},{\"id\":\"4d6c3c24-faad-414d-ba30-0b4e912d63b4\",\"type\":\"LinearAxis\"},{\"id\":\"39b5fbc9-39fd-4522-907e-c9ace3ffbbe0\",\"type\":\"Grid\"},{\"id\":\"9820fe28-fcc1-4767-9098-535d76790c3c\",\"type\":\"BoxAnnotation\"},{\"id\":\"f6bdc99d-5f5e-4fe4-9710-d4a4333e820f\",\"type\":\"GlyphRenderer\"}],\"responsive\":\"width_ar\",\"tool_events\":{\"id\":\"e0ac498f-0c70-4607-bf35-6211193eaa74\",\"type\":\"ToolEvents\"},\"toolbar\":{\"id\":\"b37c999b-3008-44f9-bc22-c8768daa8190\",\"type\":\"Toolbar\"},\"x_range\":{\"id\":\"0e467c76-e3af-431e-95cc-052a3addfd54\",\"type\":\"DataRange1d\"},\"y_range\":{\"id\":\"df305047-fd0b-428e-a91d-f594056d779f\",\"type\":\"DataRange1d\"}},\"id\":\"05a32739-467f-4993-ad19-8af596228bc4\",\"subtype\":\"Figure\",\"type\":\"Plot\"},{\"attributes\":{\"callback\":null},\"id\":\"df305047-fd0b-428e-a91d-f594056d779f\",\"type\":\"DataRange1d\"},{\"attributes\":{\"formatter\":{\"id\":\"b8983765-e769-4323-bab5-d82c5e0867a4\",\"type\":\"BasicTickFormatter\"},\"plot\":{\"id\":\"2c45ec8e-93a8-453e-a79b-9f887d3d558d\",\"subtype\":\"Figure\",\"type\":\"Plot\"},\"ticker\":{\"id\":\"f4e1d02e-c239-434d-9a1c-20da7cc8486f\",\"type\":\"BasicTicker\"}},\"id\":\"7b29f5c2-20fe-452f-87e2-421022cdb556\",\"type\":\"LinearAxis\"},{\"attributes\":{\"callback\":null},\"id\":\"a25877ec-4d92-4b97-8226-4aef846f2633\",\"type\":\"DataRange1d\"},{\"attributes\":{\"callback\":null,\"column_names\":[\"y\",\"x\"],\"data\":{\"x\":[1,2],\"y\":[3,4]}},\"id\":\"bafb3110-a591-4aa1-86be-6238f0aaac54\",\"type\":\"ColumnDataSource\"},{\"attributes\":{\"fill_alpha\":{\"value\":0.1},\"fill_color\":{\"value\":\"#1f77b4\"},\"line_alpha\":{\"value\":0.1},\"line_color\":{\"value\":\"#1f77b4\"},\"size\":{\"units\":\"screen\",\"value\":20},\"x\":{\"field\":\"x\"},\"y\":{\"field\":\"y\"}},\"id\":\"64e68e9d-9203-4e9e-a60d-d4c841b72a14\",\"type\":\"Circle\"},{\"attributes\":{\"callback\":null,\"column_names\":[\"y\",\"x\"],\"data\":{\"x\":[1,2],\"y\":[3,4]}},\"id\":\"06c91a34-3215-4488-ab66-3a743f410e69\",\"type\":\"ColumnDataSource\"},{\"attributes\":{\"fill_color\":{\"value\":\"#1f77b4\"},\"line_color\":{\"value\":\"#1f77b4\"},\"size\":{\"units\":\"screen\",\"value\":20},\"x\":{\"field\":\"x\"},\"y\":{\"field\":\"y\"}},\"id\":\"f29084f3-4291-4644-b738-e77435158b89\",\"type\":\"Circle\"},{\"attributes\":{\"formatter\":{\"id\":\"9b90be56-73a5-4447-8548-e9b81712e97f\",\"type\":\"BasicTickFormatter\"},\"plot\":{\"id\":\"05a32739-467f-4993-ad19-8af596228bc4\",\"subtype\":\"Figure\",\"type\":\"Plot\"},\"ticker\":{\"id\":\"93666888-e30a-4604-9e9d-d7baf9a1149d\",\"type\":\"BasicTicker\"}},\"id\":\"ebc5386a-5866-45be-a203-92f2d8645970\",\"type\":\"LinearAxis\"},{\"attributes\":{\"plot\":{\"id\":\"05a32739-467f-4993-ad19-8af596228bc4\",\"subtype\":\"Figure\",\"type\":\"Plot\"}},\"id\":\"a4529b48-1810-4119-ac28-80c7e63a8c3c\",\"type\":\"ResizeTool\"},{\"attributes\":{},\"id\":\"e0ac498f-0c70-4607-bf35-6211193eaa74\",\"type\":\"ToolEvents\"}],\"root_ids\":[\"31cad3d7-e5d2-45c6-b122-d2411750e387\"]},\"title\":\"Bokeh Application\",\"version\":\"0.12.0dev10\"}};\n",
       "            var render_items = [{\"docid\":\"b86d01b1-0518-4266-8543-abd5508e3c8c\",\"elementid\":\"002221e6-197e-45c0-848f-bd7a517576a8\",\"modelid\":\"31cad3d7-e5d2-45c6-b122-d2411750e387\",\"notebook_comms_target\":\"d9e77ad4-3276-4c90-82bf-b4312ed05c0d\"}];\n",
       "            \n",
       "            Bokeh.embed.embed_items(docs_json, render_items);\n",
       "        });\n",
       "      },\n",
       "      function(Bokeh) {\n",
       "      }\n",
       "    ];\n",
       "  \n",
       "    function run_inline_js() {\n",
       "      for (var i = 0; i < inline_js.length; i++) {\n",
       "        inline_js[i](window.Bokeh);\n",
       "      }\n",
       "    }\n",
       "  \n",
       "    if (window._bokeh_is_loading === 0) {\n",
       "      console.log(\"Bokeh: BokehJS loaded, going straight to plotting\");\n",
       "      run_inline_js();\n",
       "    } else {\n",
       "      load_libs(js_urls, function() {\n",
       "        console.log(\"Bokeh: BokehJS plotting callback run at\", now());\n",
       "        run_inline_js();\n",
       "      });\n",
       "    }\n",
       "  }(this));\n",
       "</script>"
      ]
     },
     "metadata": {},
     "output_type": "display_data"
    },
    {
     "data": {
      "text/html": [
       "<p><code>&lt;Bokeh Notebook handle for <strong>In[4]</strong>&gt;</code></p>"
      ],
      "text/plain": [
       "<bokeh.io._CommsHandle at 0x10c374748>"
      ]
     },
     "execution_count": 4,
     "metadata": {},
     "output_type": "execute_result"
    }
   ],
   "source": [
    "from bokeh.models import Column\n",
    "RESPONSIVE = True\n",
    "show(\n",
    "    Column(\n",
    "        make_plot(RESPONSIVE), \n",
    "        make_plot(RESPONSIVE), \n",
    "        responsive=RESPONSIVE\n",
    "    )\n",
    ")"
   ]
  },
  {
   "cell_type": "markdown",
   "metadata": {},
   "source": [
    "If you resize the notebook window, you'll see the plots resizing - but maintaining their aspect ratio. \n",
    "\n",
    "Let's see what happens if we forget to set the responsive mode of the Column"
   ]
  },
  {
   "cell_type": "code",
   "execution_count": 5,
   "metadata": {
    "collapsed": false
   },
   "outputs": [
    {
     "data": {
      "text/html": [
       "\n",
       "\n",
       "    <div class=\"bk-root\">\n",
       "        <div class=\"plotdiv\" id=\"f077a9fc-6b10-4e30-a9a3-c331ea0adb78\"></div>\n",
       "    </div>\n",
       "<script type=\"text/javascript\">\n",
       "  \n",
       "  (function(global) {\n",
       "    function now() {\n",
       "      return new Date();\n",
       "    }\n",
       "  \n",
       "    if (typeof (window._bokeh_onload_callbacks) === \"undefined\") {\n",
       "      window._bokeh_onload_callbacks = [];\n",
       "    }\n",
       "  \n",
       "    function run_callbacks() {\n",
       "      window._bokeh_onload_callbacks.forEach(function(callback) { callback() });\n",
       "      delete window._bokeh_onload_callbacks\n",
       "      console.info(\"Bokeh: all callbacks have finished\");\n",
       "    }\n",
       "  \n",
       "    function load_libs(js_urls, callback) {\n",
       "      window._bokeh_onload_callbacks.push(callback);\n",
       "      if (window._bokeh_is_loading > 0) {\n",
       "        console.log(\"Bokeh: BokehJS is being loaded, scheduling callback at\", now());\n",
       "        return null;\n",
       "      }\n",
       "      if (js_urls == null || js_urls.length === 0) {\n",
       "        run_callbacks();\n",
       "        return null;\n",
       "      }\n",
       "      console.log(\"Bokeh: BokehJS not loaded, scheduling load and callback at\", now());\n",
       "      window._bokeh_is_loading = js_urls.length;\n",
       "      for (var i = 0; i < js_urls.length; i++) {\n",
       "        var url = js_urls[i];\n",
       "        var s = document.createElement('script');\n",
       "        s.src = url;\n",
       "        s.async = false;\n",
       "        s.onreadystatechange = s.onload = function() {\n",
       "          window._bokeh_is_loading--;\n",
       "          if (window._bokeh_is_loading === 0) {\n",
       "            console.log(\"Bokeh: all BokehJS libraries loaded\");\n",
       "            run_callbacks()\n",
       "          }\n",
       "        };\n",
       "        s.onerror = function() {\n",
       "          console.warn(\"failed to load library \" + url);\n",
       "        };\n",
       "        console.log(\"Bokeh: injecting script tag for BokehJS library: \", url);\n",
       "        document.getElementsByTagName(\"head\")[0].appendChild(s);\n",
       "      }\n",
       "    };var element = document.getElementById(\"f077a9fc-6b10-4e30-a9a3-c331ea0adb78\");\n",
       "    if (element == null) {\n",
       "      console.log(\"Bokeh: ERROR: autoload.js configured with elementid 'f077a9fc-6b10-4e30-a9a3-c331ea0adb78' but no matching script tag was found. \")\n",
       "      return false;\n",
       "    }\n",
       "  \n",
       "    var js_urls = [];\n",
       "  \n",
       "    var inline_js = [\n",
       "      function(Bokeh) {\n",
       "        Bokeh.$(function() {\n",
       "            var docs_json = {\"0dd1ba2f-b783-4c32-ae52-40ff515dd8e3\":{\"roots\":{\"references\":[{\"attributes\":{\"plot\":{\"id\":\"661569e1-1680-4623-af4b-c4a801445e66\",\"subtype\":\"Figure\",\"type\":\"Plot\"}},\"id\":\"96c3b104-f0e1-4e9c-8b81-f8c1b6a98800\",\"type\":\"SaveTool\"},{\"attributes\":{\"plot\":{\"id\":\"05a32739-467f-4993-ad19-8af596228bc4\",\"subtype\":\"Figure\",\"type\":\"Plot\"}},\"id\":\"d843889c-c420-4950-91d2-d374bd0b748c\",\"type\":\"PanTool\"},{\"attributes\":{\"callback\":null},\"id\":\"f9e07334-c7d1-41c6-ab60-f7efdddfa168\",\"type\":\"DataRange1d\"},{\"attributes\":{},\"id\":\"b8983765-e769-4323-bab5-d82c5e0867a4\",\"type\":\"BasicTickFormatter\"},{\"attributes\":{\"below\":[{\"id\":\"fa3d7365-3ce6-4a39-838b-0f5bfbee6393\",\"type\":\"LinearAxis\"}],\"left\":[{\"id\":\"7b29f5c2-20fe-452f-87e2-421022cdb556\",\"type\":\"LinearAxis\"}],\"plot_height\":100,\"plot_width\":400,\"renderers\":[{\"id\":\"fa3d7365-3ce6-4a39-838b-0f5bfbee6393\",\"type\":\"LinearAxis\"},{\"id\":\"70ae5a7c-dd4b-415c-adb9-e128d3feee01\",\"type\":\"Grid\"},{\"id\":\"7b29f5c2-20fe-452f-87e2-421022cdb556\",\"type\":\"LinearAxis\"},{\"id\":\"a8e867ab-cbb2-48cd-a424-47abd5ec1966\",\"type\":\"Grid\"},{\"id\":\"882a5e42-7261-498c-9635-46c4ea3c0a55\",\"type\":\"BoxAnnotation\"},{\"id\":\"44199b5a-4dd9-410c-bd21-d6b373cf715b\",\"type\":\"GlyphRenderer\"}],\"responsive\":\"width_ar\",\"tool_events\":{\"id\":\"9ca6059c-51c7-4a0d-8887-f1cc80317475\",\"type\":\"ToolEvents\"},\"toolbar\":{\"id\":\"ca8c005b-13c6-4507-b449-9fd08414772f\",\"type\":\"Toolbar\"},\"x_range\":{\"id\":\"8fb1c867-822e-4e2b-8338-13e578173471\",\"type\":\"DataRange1d\"},\"y_range\":{\"id\":\"a25877ec-4d92-4b97-8226-4aef846f2633\",\"type\":\"DataRange1d\"}},\"id\":\"2c45ec8e-93a8-453e-a79b-9f887d3d558d\",\"subtype\":\"Figure\",\"type\":\"Plot\"},{\"attributes\":{\"overlay\":{\"id\":\"9820fe28-fcc1-4767-9098-535d76790c3c\",\"type\":\"BoxAnnotation\"},\"plot\":{\"id\":\"05a32739-467f-4993-ad19-8af596228bc4\",\"subtype\":\"Figure\",\"type\":\"Plot\"}},\"id\":\"d0cc61cc-75fa-4337-9426-8d5f37b3ab74\",\"type\":\"BoxZoomTool\"},{\"attributes\":{\"plot\":{\"id\":\"2c45ec8e-93a8-453e-a79b-9f887d3d558d\",\"subtype\":\"Figure\",\"type\":\"Plot\"}},\"id\":\"5cd35342-f209-4d4e-af41-e4972baa4d74\",\"type\":\"PanTool\"},{\"attributes\":{},\"id\":\"9b90be56-73a5-4447-8548-e9b81712e97f\",\"type\":\"BasicTickFormatter\"},{\"attributes\":{},\"id\":\"f4e1d02e-c239-434d-9a1c-20da7cc8486f\",\"type\":\"BasicTicker\"},{\"attributes\":{\"callback\":null,\"column_names\":[\"y\",\"x\"],\"data\":{\"x\":[1,2],\"y\":[3,4]}},\"id\":\"920bce2c-7d39-4dde-b5df-59eb5c0b0ea8\",\"type\":\"ColumnDataSource\"},{\"attributes\":{\"plot\":{\"id\":\"05a32739-467f-4993-ad19-8af596228bc4\",\"subtype\":\"Figure\",\"type\":\"Plot\"}},\"id\":\"88ba0056-88bf-4c2a-9011-b66f8457df4d\",\"type\":\"HelpTool\"},{\"attributes\":{\"overlay\":{\"id\":\"882a5e42-7261-498c-9635-46c4ea3c0a55\",\"type\":\"BoxAnnotation\"},\"plot\":{\"id\":\"2c45ec8e-93a8-453e-a79b-9f887d3d558d\",\"subtype\":\"Figure\",\"type\":\"Plot\"}},\"id\":\"1b4ddfb2-ef16-4f4e-9fab-a54429c60eb3\",\"type\":\"BoxZoomTool\"},{\"attributes\":{\"plot\":{\"id\":\"2c45ec8e-93a8-453e-a79b-9f887d3d558d\",\"subtype\":\"Figure\",\"type\":\"Plot\"}},\"id\":\"6c4fea74-d1c5-45de-9ada-9c59dfb3b878\",\"type\":\"SaveTool\"},{\"attributes\":{\"dimension\":1,\"plot\":{\"id\":\"2c45ec8e-93a8-453e-a79b-9f887d3d558d\",\"subtype\":\"Figure\",\"type\":\"Plot\"},\"ticker\":{\"id\":\"f4e1d02e-c239-434d-9a1c-20da7cc8486f\",\"type\":\"BasicTicker\"}},\"id\":\"a8e867ab-cbb2-48cd-a424-47abd5ec1966\",\"type\":\"Grid\"},{\"attributes\":{\"data_source\":{\"id\":\"4bb653df-aff2-4582-8fd0-f6a7969fce9c\",\"type\":\"ColumnDataSource\"},\"glyph\":{\"id\":\"12cf0134-08d4-466e-baff-b5261cc1952d\",\"type\":\"Circle\"},\"hover_glyph\":null,\"nonselection_glyph\":{\"id\":\"9eb2239c-32bc-4054-9dd6-056e8f6e5ee8\",\"type\":\"Circle\"},\"selection_glyph\":null},\"id\":\"4141f457-7a82-44f6-be63-61c019354019\",\"type\":\"GlyphRenderer\"},{\"attributes\":{\"formatter\":{\"id\":\"643d1f7e-1da7-41e7-b532-1b2b5613c99a\",\"type\":\"BasicTickFormatter\"},\"plot\":{\"id\":\"05a32739-467f-4993-ad19-8af596228bc4\",\"subtype\":\"Figure\",\"type\":\"Plot\"},\"ticker\":{\"id\":\"64a7a1e4-8ac6-4efc-b6a0-1f2f45a90285\",\"type\":\"BasicTicker\"}},\"id\":\"4d6c3c24-faad-414d-ba30-0b4e912d63b4\",\"type\":\"LinearAxis\"},{\"attributes\":{\"data_source\":{\"id\":\"bafb3110-a591-4aa1-86be-6238f0aaac54\",\"type\":\"ColumnDataSource\"},\"glyph\":{\"id\":\"574e02a5-6c4f-4da3-a524-f6eb0dbe3efb\",\"type\":\"Circle\"},\"hover_glyph\":null,\"nonselection_glyph\":{\"id\":\"64e68e9d-9203-4e9e-a60d-d4c841b72a14\",\"type\":\"Circle\"},\"selection_glyph\":null},\"id\":\"f6bdc99d-5f5e-4fe4-9710-d4a4333e820f\",\"type\":\"GlyphRenderer\"},{\"attributes\":{\"children\":[{\"id\":\"05a32739-467f-4993-ad19-8af596228bc4\",\"subtype\":\"Figure\",\"type\":\"Plot\"},{\"id\":\"2c45ec8e-93a8-453e-a79b-9f887d3d558d\",\"subtype\":\"Figure\",\"type\":\"Plot\"}],\"responsive\":\"width_ar\"},\"id\":\"31cad3d7-e5d2-45c6-b122-d2411750e387\",\"type\":\"Column\"},{\"attributes\":{},\"id\":\"f6142705-9d68-49e1-a0c2-d7942c78ee95\",\"type\":\"BasicTickFormatter\"},{\"attributes\":{\"fill_alpha\":{\"value\":0.1},\"fill_color\":{\"value\":\"#1f77b4\"},\"line_alpha\":{\"value\":0.1},\"line_color\":{\"value\":\"#1f77b4\"},\"size\":{\"units\":\"screen\",\"value\":20},\"x\":{\"field\":\"x\"},\"y\":{\"field\":\"y\"}},\"id\":\"9eb2239c-32bc-4054-9dd6-056e8f6e5ee8\",\"type\":\"Circle\"},{\"attributes\":{},\"id\":\"85e376dc-cd30-4964-9b5f-d1ad3cd685d1\",\"type\":\"BasicTickFormatter\"},{\"attributes\":{\"overlay\":{\"id\":\"a6df27ce-b76e-4002-92ad-83e947b13459\",\"type\":\"BoxAnnotation\"},\"plot\":{\"id\":\"661569e1-1680-4623-af4b-c4a801445e66\",\"subtype\":\"Figure\",\"type\":\"Plot\"}},\"id\":\"3a657178-68f7-40e0-b1d4-9960796627fd\",\"type\":\"BoxZoomTool\"},{\"attributes\":{\"data_source\":{\"id\":\"920bce2c-7d39-4dde-b5df-59eb5c0b0ea8\",\"type\":\"ColumnDataSource\"},\"glyph\":{\"id\":\"81c12f74-bea8-446a-90f1-8b0c25558ade\",\"type\":\"Circle\"},\"hover_glyph\":null,\"nonselection_glyph\":{\"id\":\"4668330c-ff53-48fc-848b-f214b6520e0a\",\"type\":\"Circle\"},\"selection_glyph\":null},\"id\":\"828b5efe-fa28-4b30-83cf-28f4da966c38\",\"type\":\"GlyphRenderer\"},{\"attributes\":{\"dimension\":1,\"plot\":{\"id\":\"05a32739-467f-4993-ad19-8af596228bc4\",\"subtype\":\"Figure\",\"type\":\"Plot\"},\"ticker\":{\"id\":\"64a7a1e4-8ac6-4efc-b6a0-1f2f45a90285\",\"type\":\"BasicTicker\"}},\"id\":\"39b5fbc9-39fd-4522-907e-c9ace3ffbbe0\",\"type\":\"Grid\"},{\"attributes\":{\"plot\":{\"id\":\"4580d804-0b81-4052-9b23-607d1488e3bd\",\"subtype\":\"Figure\",\"type\":\"Plot\"}},\"id\":\"6bdc9d72-bc58-4cca-a02b-aa3865411281\",\"type\":\"PanTool\"},{\"attributes\":{\"fill_color\":{\"value\":\"#1f77b4\"},\"line_color\":{\"value\":\"#1f77b4\"},\"size\":{\"units\":\"screen\",\"value\":20},\"x\":{\"field\":\"x\"},\"y\":{\"field\":\"y\"}},\"id\":\"12cf0134-08d4-466e-baff-b5261cc1952d\",\"type\":\"Circle\"},{\"attributes\":{\"plot\":{\"id\":\"2c45ec8e-93a8-453e-a79b-9f887d3d558d\",\"subtype\":\"Figure\",\"type\":\"Plot\"}},\"id\":\"d7174220-ff26-4aaf-88a2-177d53b6fcbe\",\"type\":\"WheelZoomTool\"},{\"attributes\":{\"callback\":null},\"id\":\"8fb1c867-822e-4e2b-8338-13e578173471\",\"type\":\"DataRange1d\"},{\"attributes\":{\"bottom_units\":\"screen\",\"fill_alpha\":{\"value\":0.5},\"fill_color\":{\"value\":\"lightgrey\"},\"left_units\":\"screen\",\"level\":\"overlay\",\"line_alpha\":{\"value\":1.0},\"line_color\":{\"value\":\"black\"},\"line_dash\":[4,4],\"line_width\":{\"value\":2},\"plot\":null,\"render_mode\":\"css\",\"right_units\":\"screen\",\"top_units\":\"screen\"},\"id\":\"882a5e42-7261-498c-9635-46c4ea3c0a55\",\"type\":\"BoxAnnotation\"},{\"attributes\":{\"plot\":{\"id\":\"05a32739-467f-4993-ad19-8af596228bc4\",\"subtype\":\"Figure\",\"type\":\"Plot\"}},\"id\":\"c3f3bf65-097e-4e6c-90de-8b08fdb68f53\",\"type\":\"WheelZoomTool\"},{\"attributes\":{\"plot\":{\"id\":\"661569e1-1680-4623-af4b-c4a801445e66\",\"subtype\":\"Figure\",\"type\":\"Plot\"}},\"id\":\"62e3f121-2f0a-40ca-8c9a-78d2eaf1abf3\",\"type\":\"ResetTool\"},{\"attributes\":{\"fill_alpha\":{\"value\":0.1},\"fill_color\":{\"value\":\"#1f77b4\"},\"line_alpha\":{\"value\":0.1},\"line_color\":{\"value\":\"#1f77b4\"},\"size\":{\"units\":\"screen\",\"value\":20},\"x\":{\"field\":\"x\"},\"y\":{\"field\":\"y\"}},\"id\":\"55042a00-bc0f-4d81-bdf1-3bb4c9435d24\",\"type\":\"Circle\"},{\"attributes\":{\"plot\":{\"id\":\"661569e1-1680-4623-af4b-c4a801445e66\",\"subtype\":\"Figure\",\"type\":\"Plot\"}},\"id\":\"62fc09e4-8624-4603-9aad-998f62dceaae\",\"type\":\"WheelZoomTool\"},{\"attributes\":{\"fill_alpha\":{\"value\":0.1},\"fill_color\":{\"value\":\"#1f77b4\"},\"line_alpha\":{\"value\":0.1},\"line_color\":{\"value\":\"#1f77b4\"},\"size\":{\"units\":\"screen\",\"value\":20},\"x\":{\"field\":\"x\"},\"y\":{\"field\":\"y\"}},\"id\":\"4668330c-ff53-48fc-848b-f214b6520e0a\",\"type\":\"Circle\"},{\"attributes\":{\"plot\":{\"id\":\"05a32739-467f-4993-ad19-8af596228bc4\",\"subtype\":\"Figure\",\"type\":\"Plot\"},\"ticker\":{\"id\":\"93666888-e30a-4604-9e9d-d7baf9a1149d\",\"type\":\"BasicTicker\"}},\"id\":\"4816c7f9-45e7-4f68-aff5-a0c4ff3dad93\",\"type\":\"Grid\"},{\"attributes\":{\"plot\":{\"id\":\"661569e1-1680-4623-af4b-c4a801445e66\",\"subtype\":\"Figure\",\"type\":\"Plot\"}},\"id\":\"ccb7e53d-06fd-41ef-9fae-f24793342cc2\",\"type\":\"ResizeTool\"},{\"attributes\":{\"below\":[{\"id\":\"d6ba2daf-6b1e-4713-9c92-054338075c17\",\"type\":\"LinearAxis\"}],\"left\":[{\"id\":\"f86e36be-004e-4bfb-9a98-0f6b11a27ab6\",\"type\":\"LinearAxis\"}],\"plot_height\":100,\"plot_width\":400,\"renderers\":[{\"id\":\"d6ba2daf-6b1e-4713-9c92-054338075c17\",\"type\":\"LinearAxis\"},{\"id\":\"c3aecefe-ebe9-44cf-ab4c-4b674bcc4878\",\"type\":\"Grid\"},{\"id\":\"f86e36be-004e-4bfb-9a98-0f6b11a27ab6\",\"type\":\"LinearAxis\"},{\"id\":\"7d1b14b1-7def-43b4-9b36-3d545c7aa769\",\"type\":\"Grid\"},{\"id\":\"734b647c-9203-4ebc-883d-108173c26ab0\",\"type\":\"BoxAnnotation\"},{\"id\":\"4141f457-7a82-44f6-be63-61c019354019\",\"type\":\"GlyphRenderer\"}],\"responsive\":\"width_ar\",\"tool_events\":{\"id\":\"61427a1a-d1f2-4ceb-bad5-e977c742a872\",\"type\":\"ToolEvents\"},\"toolbar\":{\"id\":\"bfe1a2d2-7dd1-40be-a506-30d5015e5737\",\"type\":\"Toolbar\"},\"x_range\":{\"id\":\"f9e07334-c7d1-41c6-ab60-f7efdddfa168\",\"type\":\"DataRange1d\"},\"y_range\":{\"id\":\"73f45598-5636-405d-ad4c-ffc7be12318c\",\"type\":\"DataRange1d\"}},\"id\":\"4580d804-0b81-4052-9b23-607d1488e3bd\",\"subtype\":\"Figure\",\"type\":\"Plot\"},{\"attributes\":{\"formatter\":{\"id\":\"85e376dc-cd30-4964-9b5f-d1ad3cd685d1\",\"type\":\"BasicTickFormatter\"},\"plot\":{\"id\":\"661569e1-1680-4623-af4b-c4a801445e66\",\"subtype\":\"Figure\",\"type\":\"Plot\"},\"ticker\":{\"id\":\"2e6b951a-ce80-4040-a5ff-3512a7b4ceff\",\"type\":\"BasicTicker\"}},\"id\":\"4e8e4426-f28d-444e-ab9a-c126f5db5f58\",\"type\":\"LinearAxis\"},{\"attributes\":{\"dimension\":1,\"plot\":{\"id\":\"4580d804-0b81-4052-9b23-607d1488e3bd\",\"subtype\":\"Figure\",\"type\":\"Plot\"},\"ticker\":{\"id\":\"9244ebfc-5289-4e04-9a89-d608958bee94\",\"type\":\"BasicTicker\"}},\"id\":\"7d1b14b1-7def-43b4-9b36-3d545c7aa769\",\"type\":\"Grid\"},{\"attributes\":{},\"id\":\"93666888-e30a-4604-9e9d-d7baf9a1149d\",\"type\":\"BasicTicker\"},{\"attributes\":{\"plot\":{\"id\":\"4580d804-0b81-4052-9b23-607d1488e3bd\",\"subtype\":\"Figure\",\"type\":\"Plot\"}},\"id\":\"519ee1b8-b01c-415a-a5dc-e512a37c4e1e\",\"type\":\"WheelZoomTool\"},{\"attributes\":{},\"id\":\"9140fe94-f0a4-4a9b-b09f-5e3a8cb355dd\",\"type\":\"BasicTickFormatter\"},{\"attributes\":{},\"id\":\"64a7a1e4-8ac6-4efc-b6a0-1f2f45a90285\",\"type\":\"BasicTicker\"},{\"attributes\":{\"tools\":[{\"id\":\"6bdc9d72-bc58-4cca-a02b-aa3865411281\",\"type\":\"PanTool\"},{\"id\":\"519ee1b8-b01c-415a-a5dc-e512a37c4e1e\",\"type\":\"WheelZoomTool\"},{\"id\":\"b3c2f43e-7bfa-4459-a66e-0759172c5580\",\"type\":\"BoxZoomTool\"},{\"id\":\"b139f965-b0bf-4e8b-8faa-7431d4f830a7\",\"type\":\"SaveTool\"},{\"id\":\"528360ca-0ffa-455b-9ce7-acd13214e959\",\"type\":\"ResizeTool\"},{\"id\":\"8c1f002c-c7c4-4a88-bed5-0ce6e9b62aad\",\"type\":\"ResetTool\"},{\"id\":\"035446da-423f-43c5-8d5a-27ca52389949\",\"type\":\"HelpTool\"}]},\"id\":\"bfe1a2d2-7dd1-40be-a506-30d5015e5737\",\"type\":\"Toolbar\"},{\"attributes\":{\"formatter\":{\"id\":\"b8983765-e769-4323-bab5-d82c5e0867a4\",\"type\":\"BasicTickFormatter\"},\"plot\":{\"id\":\"2c45ec8e-93a8-453e-a79b-9f887d3d558d\",\"subtype\":\"Figure\",\"type\":\"Plot\"},\"ticker\":{\"id\":\"f4e1d02e-c239-434d-9a1c-20da7cc8486f\",\"type\":\"BasicTicker\"}},\"id\":\"7b29f5c2-20fe-452f-87e2-421022cdb556\",\"type\":\"LinearAxis\"},{\"attributes\":{\"tools\":[{\"id\":\"5cd35342-f209-4d4e-af41-e4972baa4d74\",\"type\":\"PanTool\"},{\"id\":\"d7174220-ff26-4aaf-88a2-177d53b6fcbe\",\"type\":\"WheelZoomTool\"},{\"id\":\"1b4ddfb2-ef16-4f4e-9fab-a54429c60eb3\",\"type\":\"BoxZoomTool\"},{\"id\":\"6c4fea74-d1c5-45de-9ada-9c59dfb3b878\",\"type\":\"SaveTool\"},{\"id\":\"4284272d-b2af-4670-9115-009dfb84ac50\",\"type\":\"ResizeTool\"},{\"id\":\"9aa900c0-fd85-4c5a-9f79-04f16281820e\",\"type\":\"ResetTool\"},{\"id\":\"8fba584b-35a2-4eeb-8947-9f0d8bc04448\",\"type\":\"HelpTool\"}]},\"id\":\"ca8c005b-13c6-4507-b449-9fd08414772f\",\"type\":\"Toolbar\"},{\"attributes\":{\"bottom_units\":\"screen\",\"fill_alpha\":{\"value\":0.5},\"fill_color\":{\"value\":\"lightgrey\"},\"left_units\":\"screen\",\"level\":\"overlay\",\"line_alpha\":{\"value\":1.0},\"line_color\":{\"value\":\"black\"},\"line_dash\":[4,4],\"line_width\":{\"value\":2},\"plot\":null,\"render_mode\":\"css\",\"right_units\":\"screen\",\"top_units\":\"screen\"},\"id\":\"9820fe28-fcc1-4767-9098-535d76790c3c\",\"type\":\"BoxAnnotation\"},{\"attributes\":{\"plot\":{\"id\":\"05a32739-467f-4993-ad19-8af596228bc4\",\"subtype\":\"Figure\",\"type\":\"Plot\"}},\"id\":\"b5eb3094-8c93-4a01-b357-a541bc681537\",\"type\":\"ResetTool\"},{\"attributes\":{\"formatter\":{\"id\":\"f6142705-9d68-49e1-a0c2-d7942c78ee95\",\"type\":\"BasicTickFormatter\"},\"plot\":{\"id\":\"661569e1-1680-4623-af4b-c4a801445e66\",\"subtype\":\"Figure\",\"type\":\"Plot\"},\"ticker\":{\"id\":\"3365f07a-70fb-4cd1-90aa-ae31429279e6\",\"type\":\"BasicTicker\"}},\"id\":\"5c134e3d-dd2c-4b88-9a4b-c42b318e7686\",\"type\":\"LinearAxis\"},{\"attributes\":{\"fill_color\":{\"value\":\"#1f77b4\"},\"line_color\":{\"value\":\"#1f77b4\"},\"size\":{\"units\":\"screen\",\"value\":20},\"x\":{\"field\":\"x\"},\"y\":{\"field\":\"y\"}},\"id\":\"81c12f74-bea8-446a-90f1-8b0c25558ade\",\"type\":\"Circle\"},{\"attributes\":{\"plot\":{\"id\":\"4580d804-0b81-4052-9b23-607d1488e3bd\",\"subtype\":\"Figure\",\"type\":\"Plot\"}},\"id\":\"b139f965-b0bf-4e8b-8faa-7431d4f830a7\",\"type\":\"SaveTool\"},{\"attributes\":{},\"id\":\"2e6b951a-ce80-4040-a5ff-3512a7b4ceff\",\"type\":\"BasicTicker\"},{\"attributes\":{\"below\":[{\"id\":\"4e8e4426-f28d-444e-ab9a-c126f5db5f58\",\"type\":\"LinearAxis\"}],\"left\":[{\"id\":\"5c134e3d-dd2c-4b88-9a4b-c42b318e7686\",\"type\":\"LinearAxis\"}],\"plot_height\":100,\"plot_width\":400,\"renderers\":[{\"id\":\"4e8e4426-f28d-444e-ab9a-c126f5db5f58\",\"type\":\"LinearAxis\"},{\"id\":\"303f94fd-55de-49d1-aa33-93b589b8d369\",\"type\":\"Grid\"},{\"id\":\"5c134e3d-dd2c-4b88-9a4b-c42b318e7686\",\"type\":\"LinearAxis\"},{\"id\":\"1033138d-84a4-4c2f-b286-d3b7e280bd4f\",\"type\":\"Grid\"},{\"id\":\"a6df27ce-b76e-4002-92ad-83e947b13459\",\"type\":\"BoxAnnotation\"},{\"id\":\"828b5efe-fa28-4b30-83cf-28f4da966c38\",\"type\":\"GlyphRenderer\"}],\"responsive\":\"width_ar\",\"tool_events\":{\"id\":\"7433268f-17f5-4382-b5a2-bc957ad4bd01\",\"type\":\"ToolEvents\"},\"toolbar\":{\"id\":\"a9e5f431-7f12-4dd5-ad20-be1647da8653\",\"type\":\"Toolbar\"},\"x_range\":{\"id\":\"8531fc5b-f31b-4c5e-823b-db32e385699f\",\"type\":\"DataRange1d\"},\"y_range\":{\"id\":\"c2b36aaf-f978-43b9-942e-19a08a974ba2\",\"type\":\"DataRange1d\"}},\"id\":\"661569e1-1680-4623-af4b-c4a801445e66\",\"subtype\":\"Figure\",\"type\":\"Plot\"},{\"attributes\":{},\"id\":\"e0ac498f-0c70-4607-bf35-6211193eaa74\",\"type\":\"ToolEvents\"},{\"attributes\":{},\"id\":\"f690927d-3f4a-4e55-abac-ced75f2d927b\",\"type\":\"BasicTicker\"},{\"attributes\":{\"plot\":{\"id\":\"4580d804-0b81-4052-9b23-607d1488e3bd\",\"subtype\":\"Figure\",\"type\":\"Plot\"}},\"id\":\"528360ca-0ffa-455b-9ce7-acd13214e959\",\"type\":\"ResizeTool\"},{\"attributes\":{\"plot\":{\"id\":\"661569e1-1680-4623-af4b-c4a801445e66\",\"subtype\":\"Figure\",\"type\":\"Plot\"}},\"id\":\"287c2ef4-548b-47fa-9916-c8c59e784b23\",\"type\":\"PanTool\"},{\"attributes\":{\"plot\":{\"id\":\"2c45ec8e-93a8-453e-a79b-9f887d3d558d\",\"subtype\":\"Figure\",\"type\":\"Plot\"}},\"id\":\"4284272d-b2af-4670-9115-009dfb84ac50\",\"type\":\"ResizeTool\"},{\"attributes\":{\"plot\":{\"id\":\"2c45ec8e-93a8-453e-a79b-9f887d3d558d\",\"subtype\":\"Figure\",\"type\":\"Plot\"}},\"id\":\"8fba584b-35a2-4eeb-8947-9f0d8bc04448\",\"type\":\"HelpTool\"},{\"attributes\":{\"data_source\":{\"id\":\"06c91a34-3215-4488-ab66-3a743f410e69\",\"type\":\"ColumnDataSource\"},\"glyph\":{\"id\":\"f29084f3-4291-4644-b738-e77435158b89\",\"type\":\"Circle\"},\"hover_glyph\":null,\"nonselection_glyph\":{\"id\":\"55042a00-bc0f-4d81-bdf1-3bb4c9435d24\",\"type\":\"Circle\"},\"selection_glyph\":null},\"id\":\"44199b5a-4dd9-410c-bd21-d6b373cf715b\",\"type\":\"GlyphRenderer\"},{\"attributes\":{},\"id\":\"61427a1a-d1f2-4ceb-bad5-e977c742a872\",\"type\":\"ToolEvents\"},{\"attributes\":{\"plot\":{\"id\":\"4580d804-0b81-4052-9b23-607d1488e3bd\",\"subtype\":\"Figure\",\"type\":\"Plot\"},\"ticker\":{\"id\":\"89d42765-2532-41a1-94f9-476d56112b30\",\"type\":\"BasicTicker\"}},\"id\":\"c3aecefe-ebe9-44cf-ab4c-4b674bcc4878\",\"type\":\"Grid\"},{\"attributes\":{},\"id\":\"3423f941-1aed-422d-8a39-d62a2d01a03d\",\"type\":\"BasicTickFormatter\"},{\"attributes\":{\"callback\":null,\"column_names\":[\"y\",\"x\"],\"data\":{\"x\":[1,2],\"y\":[3,4]}},\"id\":\"4bb653df-aff2-4582-8fd0-f6a7969fce9c\",\"type\":\"ColumnDataSource\"},{\"attributes\":{\"callback\":null,\"column_names\":[\"y\",\"x\"],\"data\":{\"x\":[1,2],\"y\":[3,4]}},\"id\":\"bafb3110-a591-4aa1-86be-6238f0aaac54\",\"type\":\"ColumnDataSource\"},{\"attributes\":{\"plot\":{\"id\":\"2c45ec8e-93a8-453e-a79b-9f887d3d558d\",\"subtype\":\"Figure\",\"type\":\"Plot\"},\"ticker\":{\"id\":\"f690927d-3f4a-4e55-abac-ced75f2d927b\",\"type\":\"BasicTicker\"}},\"id\":\"70ae5a7c-dd4b-415c-adb9-e128d3feee01\",\"type\":\"Grid\"},{\"attributes\":{\"plot\":{\"id\":\"2c45ec8e-93a8-453e-a79b-9f887d3d558d\",\"subtype\":\"Figure\",\"type\":\"Plot\"}},\"id\":\"9aa900c0-fd85-4c5a-9f79-04f16281820e\",\"type\":\"ResetTool\"},{\"attributes\":{\"callback\":null,\"column_names\":[\"y\",\"x\"],\"data\":{\"x\":[1,2],\"y\":[3,4]}},\"id\":\"06c91a34-3215-4488-ab66-3a743f410e69\",\"type\":\"ColumnDataSource\"},{\"attributes\":{\"fill_color\":{\"value\":\"#1f77b4\"},\"line_color\":{\"value\":\"#1f77b4\"},\"size\":{\"units\":\"screen\",\"value\":20},\"x\":{\"field\":\"x\"},\"y\":{\"field\":\"y\"}},\"id\":\"574e02a5-6c4f-4da3-a524-f6eb0dbe3efb\",\"type\":\"Circle\"},{\"attributes\":{\"overlay\":{\"id\":\"734b647c-9203-4ebc-883d-108173c26ab0\",\"type\":\"BoxAnnotation\"},\"plot\":{\"id\":\"4580d804-0b81-4052-9b23-607d1488e3bd\",\"subtype\":\"Figure\",\"type\":\"Plot\"}},\"id\":\"b3c2f43e-7bfa-4459-a66e-0759172c5580\",\"type\":\"BoxZoomTool\"},{\"attributes\":{\"children\":[{\"id\":\"661569e1-1680-4623-af4b-c4a801445e66\",\"subtype\":\"Figure\",\"type\":\"Plot\"},{\"id\":\"4580d804-0b81-4052-9b23-607d1488e3bd\",\"subtype\":\"Figure\",\"type\":\"Plot\"}]},\"id\":\"c805346a-fe63-4eda-8e79-c02aaf4684eb\",\"type\":\"Column\"},{\"attributes\":{\"plot\":{\"id\":\"661569e1-1680-4623-af4b-c4a801445e66\",\"subtype\":\"Figure\",\"type\":\"Plot\"},\"ticker\":{\"id\":\"2e6b951a-ce80-4040-a5ff-3512a7b4ceff\",\"type\":\"BasicTicker\"}},\"id\":\"303f94fd-55de-49d1-aa33-93b589b8d369\",\"type\":\"Grid\"},{\"attributes\":{\"callback\":null},\"id\":\"73f45598-5636-405d-ad4c-ffc7be12318c\",\"type\":\"DataRange1d\"},{\"attributes\":{\"callback\":null},\"id\":\"0e467c76-e3af-431e-95cc-052a3addfd54\",\"type\":\"DataRange1d\"},{\"attributes\":{\"callback\":null},\"id\":\"8531fc5b-f31b-4c5e-823b-db32e385699f\",\"type\":\"DataRange1d\"},{\"attributes\":{},\"id\":\"fe57472c-92aa-4ac0-a2cb-4db3ffa1ceee\",\"type\":\"BasicTickFormatter\"},{\"attributes\":{},\"id\":\"9ca6059c-51c7-4a0d-8887-f1cc80317475\",\"type\":\"ToolEvents\"},{\"attributes\":{\"formatter\":{\"id\":\"9140fe94-f0a4-4a9b-b09f-5e3a8cb355dd\",\"type\":\"BasicTickFormatter\"},\"plot\":{\"id\":\"2c45ec8e-93a8-453e-a79b-9f887d3d558d\",\"subtype\":\"Figure\",\"type\":\"Plot\"},\"ticker\":{\"id\":\"f690927d-3f4a-4e55-abac-ced75f2d927b\",\"type\":\"BasicTicker\"}},\"id\":\"fa3d7365-3ce6-4a39-838b-0f5bfbee6393\",\"type\":\"LinearAxis\"},{\"attributes\":{},\"id\":\"3365f07a-70fb-4cd1-90aa-ae31429279e6\",\"type\":\"BasicTicker\"},{\"attributes\":{},\"id\":\"643d1f7e-1da7-41e7-b532-1b2b5613c99a\",\"type\":\"BasicTickFormatter\"},{\"attributes\":{\"formatter\":{\"id\":\"3423f941-1aed-422d-8a39-d62a2d01a03d\",\"type\":\"BasicTickFormatter\"},\"plot\":{\"id\":\"4580d804-0b81-4052-9b23-607d1488e3bd\",\"subtype\":\"Figure\",\"type\":\"Plot\"},\"ticker\":{\"id\":\"89d42765-2532-41a1-94f9-476d56112b30\",\"type\":\"BasicTicker\"}},\"id\":\"d6ba2daf-6b1e-4713-9c92-054338075c17\",\"type\":\"LinearAxis\"},{\"attributes\":{\"formatter\":{\"id\":\"fe57472c-92aa-4ac0-a2cb-4db3ffa1ceee\",\"type\":\"BasicTickFormatter\"},\"plot\":{\"id\":\"4580d804-0b81-4052-9b23-607d1488e3bd\",\"subtype\":\"Figure\",\"type\":\"Plot\"},\"ticker\":{\"id\":\"9244ebfc-5289-4e04-9a89-d608958bee94\",\"type\":\"BasicTicker\"}},\"id\":\"f86e36be-004e-4bfb-9a98-0f6b11a27ab6\",\"type\":\"LinearAxis\"},{\"attributes\":{\"bottom_units\":\"screen\",\"fill_alpha\":{\"value\":0.5},\"fill_color\":{\"value\":\"lightgrey\"},\"left_units\":\"screen\",\"level\":\"overlay\",\"line_alpha\":{\"value\":1.0},\"line_color\":{\"value\":\"black\"},\"line_dash\":[4,4],\"line_width\":{\"value\":2},\"plot\":null,\"render_mode\":\"css\",\"right_units\":\"screen\",\"top_units\":\"screen\"},\"id\":\"734b647c-9203-4ebc-883d-108173c26ab0\",\"type\":\"BoxAnnotation\"},{\"attributes\":{\"plot\":{\"id\":\"05a32739-467f-4993-ad19-8af596228bc4\",\"subtype\":\"Figure\",\"type\":\"Plot\"}},\"id\":\"00fac0a2-e9b4-4b94-8501-f613818e556b\",\"type\":\"SaveTool\"},{\"attributes\":{\"bottom_units\":\"screen\",\"fill_alpha\":{\"value\":0.5},\"fill_color\":{\"value\":\"lightgrey\"},\"left_units\":\"screen\",\"level\":\"overlay\",\"line_alpha\":{\"value\":1.0},\"line_color\":{\"value\":\"black\"},\"line_dash\":[4,4],\"line_width\":{\"value\":2},\"plot\":null,\"render_mode\":\"css\",\"right_units\":\"screen\",\"top_units\":\"screen\"},\"id\":\"a6df27ce-b76e-4002-92ad-83e947b13459\",\"type\":\"BoxAnnotation\"},{\"attributes\":{},\"id\":\"7433268f-17f5-4382-b5a2-bc957ad4bd01\",\"type\":\"ToolEvents\"},{\"attributes\":{\"plot\":{\"id\":\"4580d804-0b81-4052-9b23-607d1488e3bd\",\"subtype\":\"Figure\",\"type\":\"Plot\"}},\"id\":\"035446da-423f-43c5-8d5a-27ca52389949\",\"type\":\"HelpTool\"},{\"attributes\":{},\"id\":\"9244ebfc-5289-4e04-9a89-d608958bee94\",\"type\":\"BasicTicker\"},{\"attributes\":{\"callback\":null},\"id\":\"c2b36aaf-f978-43b9-942e-19a08a974ba2\",\"type\":\"DataRange1d\"},{\"attributes\":{\"tools\":[{\"id\":\"d843889c-c420-4950-91d2-d374bd0b748c\",\"type\":\"PanTool\"},{\"id\":\"c3f3bf65-097e-4e6c-90de-8b08fdb68f53\",\"type\":\"WheelZoomTool\"},{\"id\":\"d0cc61cc-75fa-4337-9426-8d5f37b3ab74\",\"type\":\"BoxZoomTool\"},{\"id\":\"00fac0a2-e9b4-4b94-8501-f613818e556b\",\"type\":\"SaveTool\"},{\"id\":\"a4529b48-1810-4119-ac28-80c7e63a8c3c\",\"type\":\"ResizeTool\"},{\"id\":\"b5eb3094-8c93-4a01-b357-a541bc681537\",\"type\":\"ResetTool\"},{\"id\":\"88ba0056-88bf-4c2a-9011-b66f8457df4d\",\"type\":\"HelpTool\"}]},\"id\":\"b37c999b-3008-44f9-bc22-c8768daa8190\",\"type\":\"Toolbar\"},{\"attributes\":{\"below\":[{\"id\":\"ebc5386a-5866-45be-a203-92f2d8645970\",\"type\":\"LinearAxis\"}],\"left\":[{\"id\":\"4d6c3c24-faad-414d-ba30-0b4e912d63b4\",\"type\":\"LinearAxis\"}],\"plot_height\":100,\"plot_width\":400,\"renderers\":[{\"id\":\"ebc5386a-5866-45be-a203-92f2d8645970\",\"type\":\"LinearAxis\"},{\"id\":\"4816c7f9-45e7-4f68-aff5-a0c4ff3dad93\",\"type\":\"Grid\"},{\"id\":\"4d6c3c24-faad-414d-ba30-0b4e912d63b4\",\"type\":\"LinearAxis\"},{\"id\":\"39b5fbc9-39fd-4522-907e-c9ace3ffbbe0\",\"type\":\"Grid\"},{\"id\":\"9820fe28-fcc1-4767-9098-535d76790c3c\",\"type\":\"BoxAnnotation\"},{\"id\":\"f6bdc99d-5f5e-4fe4-9710-d4a4333e820f\",\"type\":\"GlyphRenderer\"}],\"responsive\":\"width_ar\",\"tool_events\":{\"id\":\"e0ac498f-0c70-4607-bf35-6211193eaa74\",\"type\":\"ToolEvents\"},\"toolbar\":{\"id\":\"b37c999b-3008-44f9-bc22-c8768daa8190\",\"type\":\"Toolbar\"},\"x_range\":{\"id\":\"0e467c76-e3af-431e-95cc-052a3addfd54\",\"type\":\"DataRange1d\"},\"y_range\":{\"id\":\"df305047-fd0b-428e-a91d-f594056d779f\",\"type\":\"DataRange1d\"}},\"id\":\"05a32739-467f-4993-ad19-8af596228bc4\",\"subtype\":\"Figure\",\"type\":\"Plot\"},{\"attributes\":{\"callback\":null},\"id\":\"df305047-fd0b-428e-a91d-f594056d779f\",\"type\":\"DataRange1d\"},{\"attributes\":{\"callback\":null},\"id\":\"a25877ec-4d92-4b97-8226-4aef846f2633\",\"type\":\"DataRange1d\"},{\"attributes\":{\"fill_alpha\":{\"value\":0.1},\"fill_color\":{\"value\":\"#1f77b4\"},\"line_alpha\":{\"value\":0.1},\"line_color\":{\"value\":\"#1f77b4\"},\"size\":{\"units\":\"screen\",\"value\":20},\"x\":{\"field\":\"x\"},\"y\":{\"field\":\"y\"}},\"id\":\"64e68e9d-9203-4e9e-a60d-d4c841b72a14\",\"type\":\"Circle\"},{\"attributes\":{\"dimension\":1,\"plot\":{\"id\":\"661569e1-1680-4623-af4b-c4a801445e66\",\"subtype\":\"Figure\",\"type\":\"Plot\"},\"ticker\":{\"id\":\"3365f07a-70fb-4cd1-90aa-ae31429279e6\",\"type\":\"BasicTicker\"}},\"id\":\"1033138d-84a4-4c2f-b286-d3b7e280bd4f\",\"type\":\"Grid\"},{\"attributes\":{\"fill_color\":{\"value\":\"#1f77b4\"},\"line_color\":{\"value\":\"#1f77b4\"},\"size\":{\"units\":\"screen\",\"value\":20},\"x\":{\"field\":\"x\"},\"y\":{\"field\":\"y\"}},\"id\":\"f29084f3-4291-4644-b738-e77435158b89\",\"type\":\"Circle\"},{\"attributes\":{\"formatter\":{\"id\":\"9b90be56-73a5-4447-8548-e9b81712e97f\",\"type\":\"BasicTickFormatter\"},\"plot\":{\"id\":\"05a32739-467f-4993-ad19-8af596228bc4\",\"subtype\":\"Figure\",\"type\":\"Plot\"},\"ticker\":{\"id\":\"93666888-e30a-4604-9e9d-d7baf9a1149d\",\"type\":\"BasicTicker\"}},\"id\":\"ebc5386a-5866-45be-a203-92f2d8645970\",\"type\":\"LinearAxis\"},{\"attributes\":{\"plot\":{\"id\":\"661569e1-1680-4623-af4b-c4a801445e66\",\"subtype\":\"Figure\",\"type\":\"Plot\"}},\"id\":\"61e31957-48c5-48f5-858e-7fe7065e8a2a\",\"type\":\"HelpTool\"},{\"attributes\":{\"plot\":{\"id\":\"05a32739-467f-4993-ad19-8af596228bc4\",\"subtype\":\"Figure\",\"type\":\"Plot\"}},\"id\":\"a4529b48-1810-4119-ac28-80c7e63a8c3c\",\"type\":\"ResizeTool\"},{\"attributes\":{\"tools\":[{\"id\":\"287c2ef4-548b-47fa-9916-c8c59e784b23\",\"type\":\"PanTool\"},{\"id\":\"62fc09e4-8624-4603-9aad-998f62dceaae\",\"type\":\"WheelZoomTool\"},{\"id\":\"3a657178-68f7-40e0-b1d4-9960796627fd\",\"type\":\"BoxZoomTool\"},{\"id\":\"96c3b104-f0e1-4e9c-8b81-f8c1b6a98800\",\"type\":\"SaveTool\"},{\"id\":\"ccb7e53d-06fd-41ef-9fae-f24793342cc2\",\"type\":\"ResizeTool\"},{\"id\":\"62e3f121-2f0a-40ca-8c9a-78d2eaf1abf3\",\"type\":\"ResetTool\"},{\"id\":\"61e31957-48c5-48f5-858e-7fe7065e8a2a\",\"type\":\"HelpTool\"}]},\"id\":\"a9e5f431-7f12-4dd5-ad20-be1647da8653\",\"type\":\"Toolbar\"},{\"attributes\":{},\"id\":\"89d42765-2532-41a1-94f9-476d56112b30\",\"type\":\"BasicTicker\"},{\"attributes\":{\"plot\":{\"id\":\"4580d804-0b81-4052-9b23-607d1488e3bd\",\"subtype\":\"Figure\",\"type\":\"Plot\"}},\"id\":\"8c1f002c-c7c4-4a88-bed5-0ce6e9b62aad\",\"type\":\"ResetTool\"}],\"root_ids\":[\"31cad3d7-e5d2-45c6-b122-d2411750e387\",\"c805346a-fe63-4eda-8e79-c02aaf4684eb\"]},\"title\":\"Bokeh Application\",\"version\":\"0.12.0dev10\"}};\n",
       "            var render_items = [{\"docid\":\"0dd1ba2f-b783-4c32-ae52-40ff515dd8e3\",\"elementid\":\"f077a9fc-6b10-4e30-a9a3-c331ea0adb78\",\"modelid\":\"c805346a-fe63-4eda-8e79-c02aaf4684eb\",\"notebook_comms_target\":\"577fe121-c55f-4ec1-bf40-910acd840294\"}];\n",
       "            \n",
       "            Bokeh.embed.embed_items(docs_json, render_items);\n",
       "        });\n",
       "      },\n",
       "      function(Bokeh) {\n",
       "      }\n",
       "    ];\n",
       "  \n",
       "    function run_inline_js() {\n",
       "      for (var i = 0; i < inline_js.length; i++) {\n",
       "        inline_js[i](window.Bokeh);\n",
       "      }\n",
       "    }\n",
       "  \n",
       "    if (window._bokeh_is_loading === 0) {\n",
       "      console.log(\"Bokeh: BokehJS loaded, going straight to plotting\");\n",
       "      run_inline_js();\n",
       "    } else {\n",
       "      load_libs(js_urls, function() {\n",
       "        console.log(\"Bokeh: BokehJS plotting callback run at\", now());\n",
       "        run_inline_js();\n",
       "      });\n",
       "    }\n",
       "  }(this));\n",
       "</script>"
      ]
     },
     "metadata": {},
     "output_type": "display_data"
    },
    {
     "data": {
      "text/html": [
       "<p><code>&lt;Bokeh Notebook handle for <strong>In[5]</strong>&gt;</code></p>"
      ],
      "text/plain": [
       "<bokeh.io._CommsHandle at 0x10c38b630>"
      ]
     },
     "execution_count": 5,
     "metadata": {},
     "output_type": "execute_result"
    }
   ],
   "source": [
    "RESPONSIVE = True\n",
    "show(\n",
    "    Column(\n",
    "        make_plot(RESPONSIVE), \n",
    "        make_plot(RESPONSIVE), \n",
    "    )\n",
    ")"
   ]
  },
  {
   "cell_type": "markdown",
   "metadata": {
    "collapsed": true
   },
   "source": [
    "In this case we see nothing! The Column is there but because of a strange interaction with the notebook output cell we can't actually see it.\n",
    "\n",
    "Hopefully this highlights the importance of using the same mode.\n",
    "\n",
    "### Using layout function to save us some typing\n",
    "\n",
    "The layout function automatically goes through and makes sure that everything has the same mode, saving us a bunch of time.\n",
    "\n",
    "The layout column accepts a list of lists. We will also be adding `row` and `column` functions before 0.12 is released."
   ]
  },
  {
   "cell_type": "code",
   "execution_count": 8,
   "metadata": {
    "collapsed": false
   },
   "outputs": [
    {
     "data": {
      "text/html": [
       "\n",
       "\n",
       "    <div class=\"bk-root\">\n",
       "        <div class=\"plotdiv\" id=\"57d3aee7-9ffd-41eb-909a-5c0634e5be1e\"></div>\n",
       "    </div>\n",
       "<script type=\"text/javascript\">\n",
       "  \n",
       "  (function(global) {\n",
       "    function now() {\n",
       "      return new Date();\n",
       "    }\n",
       "  \n",
       "    if (typeof (window._bokeh_onload_callbacks) === \"undefined\") {\n",
       "      window._bokeh_onload_callbacks = [];\n",
       "    }\n",
       "  \n",
       "    function run_callbacks() {\n",
       "      window._bokeh_onload_callbacks.forEach(function(callback) { callback() });\n",
       "      delete window._bokeh_onload_callbacks\n",
       "      console.info(\"Bokeh: all callbacks have finished\");\n",
       "    }\n",
       "  \n",
       "    function load_libs(js_urls, callback) {\n",
       "      window._bokeh_onload_callbacks.push(callback);\n",
       "      if (window._bokeh_is_loading > 0) {\n",
       "        console.log(\"Bokeh: BokehJS is being loaded, scheduling callback at\", now());\n",
       "        return null;\n",
       "      }\n",
       "      if (js_urls == null || js_urls.length === 0) {\n",
       "        run_callbacks();\n",
       "        return null;\n",
       "      }\n",
       "      console.log(\"Bokeh: BokehJS not loaded, scheduling load and callback at\", now());\n",
       "      window._bokeh_is_loading = js_urls.length;\n",
       "      for (var i = 0; i < js_urls.length; i++) {\n",
       "        var url = js_urls[i];\n",
       "        var s = document.createElement('script');\n",
       "        s.src = url;\n",
       "        s.async = false;\n",
       "        s.onreadystatechange = s.onload = function() {\n",
       "          window._bokeh_is_loading--;\n",
       "          if (window._bokeh_is_loading === 0) {\n",
       "            console.log(\"Bokeh: all BokehJS libraries loaded\");\n",
       "            run_callbacks()\n",
       "          }\n",
       "        };\n",
       "        s.onerror = function() {\n",
       "          console.warn(\"failed to load library \" + url);\n",
       "        };\n",
       "        console.log(\"Bokeh: injecting script tag for BokehJS library: \", url);\n",
       "        document.getElementsByTagName(\"head\")[0].appendChild(s);\n",
       "      }\n",
       "    };var element = document.getElementById(\"57d3aee7-9ffd-41eb-909a-5c0634e5be1e\");\n",
       "    if (element == null) {\n",
       "      console.log(\"Bokeh: ERROR: autoload.js configured with elementid '57d3aee7-9ffd-41eb-909a-5c0634e5be1e' but no matching script tag was found. \")\n",
       "      return false;\n",
       "    }\n",
       "  \n",
       "    var js_urls = [];\n",
       "  \n",
       "    var inline_js = [\n",
       "      function(Bokeh) {\n",
       "        Bokeh.$(function() {\n",
       "            var docs_json = {\"b0213aed-64af-4f66-a266-0eb6efe00bc0\":{\"roots\":{\"references\":[{\"attributes\":{},\"id\":\"f48c531a-c3e2-4840-8590-4cd64223637b\",\"type\":\"BasicTickFormatter\"},{\"attributes\":{\"plot\":{\"id\":\"022877aa-4735-426c-9401-a2719a3b3cde\",\"subtype\":\"Figure\",\"type\":\"Plot\"}},\"id\":\"f06370a5-49e7-4d3a-bb5e-9df787bedaac\",\"type\":\"ResetTool\"},{\"attributes\":{\"data_source\":{\"id\":\"c12c9c32-2852-40bd-9306-06e9b9f81b2a\",\"type\":\"ColumnDataSource\"},\"glyph\":{\"id\":\"ba4c5b9d-4d77-44ed-84c1-36725f85cb98\",\"type\":\"Circle\"},\"hover_glyph\":null,\"nonselection_glyph\":{\"id\":\"099ae09e-ad68-4f22-9f7b-b31f0444e68c\",\"type\":\"Circle\"},\"selection_glyph\":null},\"id\":\"e982b7c0-5fbc-4bb8-93e0-89124c817421\",\"type\":\"GlyphRenderer\"},{\"attributes\":{\"plot\":{\"id\":\"05a32739-467f-4993-ad19-8af596228bc4\",\"subtype\":\"Figure\",\"type\":\"Plot\"}},\"id\":\"d843889c-c420-4950-91d2-d374bd0b748c\",\"type\":\"PanTool\"},{\"attributes\":{\"callback\":null},\"id\":\"f9e07334-c7d1-41c6-ab60-f7efdddfa168\",\"type\":\"DataRange1d\"},{\"attributes\":{},\"id\":\"b8983765-e769-4323-bab5-d82c5e0867a4\",\"type\":\"BasicTickFormatter\"},{\"attributes\":{\"callback\":null},\"id\":\"b1e3ab6d-e308-42b1-b6fc-72f666c38f88\",\"type\":\"DataRange1d\"},{\"attributes\":{\"below\":[{\"id\":\"fa3d7365-3ce6-4a39-838b-0f5bfbee6393\",\"type\":\"LinearAxis\"}],\"left\":[{\"id\":\"7b29f5c2-20fe-452f-87e2-421022cdb556\",\"type\":\"LinearAxis\"}],\"plot_height\":100,\"plot_width\":400,\"renderers\":[{\"id\":\"fa3d7365-3ce6-4a39-838b-0f5bfbee6393\",\"type\":\"LinearAxis\"},{\"id\":\"70ae5a7c-dd4b-415c-adb9-e128d3feee01\",\"type\":\"Grid\"},{\"id\":\"7b29f5c2-20fe-452f-87e2-421022cdb556\",\"type\":\"LinearAxis\"},{\"id\":\"a8e867ab-cbb2-48cd-a424-47abd5ec1966\",\"type\":\"Grid\"},{\"id\":\"882a5e42-7261-498c-9635-46c4ea3c0a55\",\"type\":\"BoxAnnotation\"},{\"id\":\"44199b5a-4dd9-410c-bd21-d6b373cf715b\",\"type\":\"GlyphRenderer\"}],\"responsive\":\"width_ar\",\"tool_events\":{\"id\":\"9ca6059c-51c7-4a0d-8887-f1cc80317475\",\"type\":\"ToolEvents\"},\"toolbar\":{\"id\":\"ca8c005b-13c6-4507-b449-9fd08414772f\",\"type\":\"Toolbar\"},\"x_range\":{\"id\":\"8fb1c867-822e-4e2b-8338-13e578173471\",\"type\":\"DataRange1d\"},\"y_range\":{\"id\":\"a25877ec-4d92-4b97-8226-4aef846f2633\",\"type\":\"DataRange1d\"}},\"id\":\"2c45ec8e-93a8-453e-a79b-9f887d3d558d\",\"subtype\":\"Figure\",\"type\":\"Plot\"},{\"attributes\":{\"fill_color\":{\"value\":\"#1f77b4\"},\"line_color\":{\"value\":\"#1f77b4\"},\"size\":{\"units\":\"screen\",\"value\":20},\"x\":{\"field\":\"x\"},\"y\":{\"field\":\"y\"}},\"id\":\"de7ea049-d706-44f8-b060-09a5b31bd580\",\"type\":\"Circle\"},{\"attributes\":{\"plot\":{\"id\":\"022877aa-4735-426c-9401-a2719a3b3cde\",\"subtype\":\"Figure\",\"type\":\"Plot\"},\"ticker\":{\"id\":\"5a31d4cc-b90c-49e0-9c1f-8d8de7591935\",\"type\":\"BasicTicker\"}},\"id\":\"d76996bd-d800-4350-9758-f1de2030687b\",\"type\":\"Grid\"},{\"attributes\":{\"plot\":{\"id\":\"a7d1fd33-5722-4900-a095-79fa33c567d6\",\"subtype\":\"Figure\",\"type\":\"Plot\"}},\"id\":\"b2a26f45-43e7-428a-bb11-b2b7076648d8\",\"type\":\"PanTool\"},{\"attributes\":{},\"id\":\"2ed09c61-5861-4994-a0f1-6fdd3f3912f3\",\"type\":\"BasicTicker\"},{\"attributes\":{\"overlay\":{\"id\":\"78fb252b-9572-4b39-b63b-f1214c69b7dd\",\"type\":\"BoxAnnotation\"},\"plot\":{\"id\":\"022877aa-4735-426c-9401-a2719a3b3cde\",\"subtype\":\"Figure\",\"type\":\"Plot\"}},\"id\":\"f49892a3-5cee-426c-9040-565d6a8abe0b\",\"type\":\"BoxZoomTool\"},{\"attributes\":{\"overlay\":{\"id\":\"9820fe28-fcc1-4767-9098-535d76790c3c\",\"type\":\"BoxAnnotation\"},\"plot\":{\"id\":\"05a32739-467f-4993-ad19-8af596228bc4\",\"subtype\":\"Figure\",\"type\":\"Plot\"}},\"id\":\"d0cc61cc-75fa-4337-9426-8d5f37b3ab74\",\"type\":\"BoxZoomTool\"},{\"attributes\":{\"below\":[{\"id\":\"d6ba2daf-6b1e-4713-9c92-054338075c17\",\"type\":\"LinearAxis\"}],\"left\":[{\"id\":\"f86e36be-004e-4bfb-9a98-0f6b11a27ab6\",\"type\":\"LinearAxis\"}],\"plot_height\":100,\"plot_width\":400,\"renderers\":[{\"id\":\"d6ba2daf-6b1e-4713-9c92-054338075c17\",\"type\":\"LinearAxis\"},{\"id\":\"c3aecefe-ebe9-44cf-ab4c-4b674bcc4878\",\"type\":\"Grid\"},{\"id\":\"f86e36be-004e-4bfb-9a98-0f6b11a27ab6\",\"type\":\"LinearAxis\"},{\"id\":\"7d1b14b1-7def-43b4-9b36-3d545c7aa769\",\"type\":\"Grid\"},{\"id\":\"734b647c-9203-4ebc-883d-108173c26ab0\",\"type\":\"BoxAnnotation\"},{\"id\":\"4141f457-7a82-44f6-be63-61c019354019\",\"type\":\"GlyphRenderer\"}],\"responsive\":\"width_ar\",\"tool_events\":{\"id\":\"61427a1a-d1f2-4ceb-bad5-e977c742a872\",\"type\":\"ToolEvents\"},\"toolbar\":{\"id\":\"bfe1a2d2-7dd1-40be-a506-30d5015e5737\",\"type\":\"Toolbar\"},\"x_range\":{\"id\":\"f9e07334-c7d1-41c6-ab60-f7efdddfa168\",\"type\":\"DataRange1d\"},\"y_range\":{\"id\":\"73f45598-5636-405d-ad4c-ffc7be12318c\",\"type\":\"DataRange1d\"}},\"id\":\"4580d804-0b81-4052-9b23-607d1488e3bd\",\"subtype\":\"Figure\",\"type\":\"Plot\"},{\"attributes\":{\"plot\":{\"id\":\"2c45ec8e-93a8-453e-a79b-9f887d3d558d\",\"subtype\":\"Figure\",\"type\":\"Plot\"}},\"id\":\"5cd35342-f209-4d4e-af41-e4972baa4d74\",\"type\":\"PanTool\"},{\"attributes\":{\"tools\":[{\"id\":\"b2a26f45-43e7-428a-bb11-b2b7076648d8\",\"type\":\"PanTool\"},{\"id\":\"8b95898a-1d45-49a9-86cf-e8a0932e99f2\",\"type\":\"WheelZoomTool\"},{\"id\":\"232280ae-065c-48c6-924a-84fd25092d8c\",\"type\":\"BoxZoomTool\"},{\"id\":\"f0932eb1-9520-4ce5-b82e-f6a28613f848\",\"type\":\"SaveTool\"},{\"id\":\"c82e71a3-74c1-43c1-8764-ddf0748067a0\",\"type\":\"ResizeTool\"},{\"id\":\"fd830339-04f0-491e-bd86-b8db51916b98\",\"type\":\"ResetTool\"},{\"id\":\"22ef00b0-5dfb-457a-8339-ad7501092021\",\"type\":\"HelpTool\"}]},\"id\":\"5d9255fe-8f76-463d-b040-fdaa74c56002\",\"type\":\"Toolbar\"},{\"attributes\":{},\"id\":\"968115ba-5e5c-470f-9989-7085bfa348b7\",\"type\":\"ToolEvents\"},{\"attributes\":{},\"id\":\"9b90be56-73a5-4447-8548-e9b81712e97f\",\"type\":\"BasicTickFormatter\"},{\"attributes\":{},\"id\":\"f4e1d02e-c239-434d-9a1c-20da7cc8486f\",\"type\":\"BasicTicker\"},{\"attributes\":{\"plot\":{\"id\":\"022877aa-4735-426c-9401-a2719a3b3cde\",\"subtype\":\"Figure\",\"type\":\"Plot\"}},\"id\":\"77951e51-02a2-4e40-bf2b-58125287bb38\",\"type\":\"WheelZoomTool\"},{\"attributes\":{\"callback\":null,\"column_names\":[\"y\",\"x\"],\"data\":{\"x\":[1,2],\"y\":[3,4]}},\"id\":\"920bce2c-7d39-4dde-b5df-59eb5c0b0ea8\",\"type\":\"ColumnDataSource\"},{\"attributes\":{\"plot\":{\"id\":\"a7d1fd33-5722-4900-a095-79fa33c567d6\",\"subtype\":\"Figure\",\"type\":\"Plot\"}},\"id\":\"22ef00b0-5dfb-457a-8339-ad7501092021\",\"type\":\"HelpTool\"},{\"attributes\":{\"plot\":{\"id\":\"05a32739-467f-4993-ad19-8af596228bc4\",\"subtype\":\"Figure\",\"type\":\"Plot\"}},\"id\":\"88ba0056-88bf-4c2a-9011-b66f8457df4d\",\"type\":\"HelpTool\"},{\"attributes\":{\"overlay\":{\"id\":\"882a5e42-7261-498c-9635-46c4ea3c0a55\",\"type\":\"BoxAnnotation\"},\"plot\":{\"id\":\"2c45ec8e-93a8-453e-a79b-9f887d3d558d\",\"subtype\":\"Figure\",\"type\":\"Plot\"}},\"id\":\"1b4ddfb2-ef16-4f4e-9fab-a54429c60eb3\",\"type\":\"BoxZoomTool\"},{\"attributes\":{},\"id\":\"5a31d4cc-b90c-49e0-9c1f-8d8de7591935\",\"type\":\"BasicTicker\"},{\"attributes\":{\"callback\":null},\"id\":\"d4e18bf6-67f4-4525-9c1d-c017b47ce16a\",\"type\":\"DataRange1d\"},{\"attributes\":{},\"id\":\"92a5dfdf-8312-4dee-ac85-10dbf8ff70d0\",\"type\":\"BasicTickFormatter\"},{\"attributes\":{},\"id\":\"85e376dc-cd30-4964-9b5f-d1ad3cd685d1\",\"type\":\"BasicTickFormatter\"},{\"attributes\":{\"formatter\":{\"id\":\"643d1f7e-1da7-41e7-b532-1b2b5613c99a\",\"type\":\"BasicTickFormatter\"},\"plot\":{\"id\":\"05a32739-467f-4993-ad19-8af596228bc4\",\"subtype\":\"Figure\",\"type\":\"Plot\"},\"ticker\":{\"id\":\"64a7a1e4-8ac6-4efc-b6a0-1f2f45a90285\",\"type\":\"BasicTicker\"}},\"id\":\"4d6c3c24-faad-414d-ba30-0b4e912d63b4\",\"type\":\"LinearAxis\"},{\"attributes\":{\"data_source\":{\"id\":\"bafb3110-a591-4aa1-86be-6238f0aaac54\",\"type\":\"ColumnDataSource\"},\"glyph\":{\"id\":\"574e02a5-6c4f-4da3-a524-f6eb0dbe3efb\",\"type\":\"Circle\"},\"hover_glyph\":null,\"nonselection_glyph\":{\"id\":\"64e68e9d-9203-4e9e-a60d-d4c841b72a14\",\"type\":\"Circle\"},\"selection_glyph\":null},\"id\":\"f6bdc99d-5f5e-4fe4-9710-d4a4333e820f\",\"type\":\"GlyphRenderer\"},{\"attributes\":{\"dimension\":1,\"plot\":{\"id\":\"a7d1fd33-5722-4900-a095-79fa33c567d6\",\"subtype\":\"Figure\",\"type\":\"Plot\"},\"ticker\":{\"id\":\"2394dcd9-140f-4980-abc2-29a22f859257\",\"type\":\"BasicTicker\"}},\"id\":\"fe45b92a-669d-44de-8461-9c83573be50f\",\"type\":\"Grid\"},{\"attributes\":{},\"id\":\"3365f07a-70fb-4cd1-90aa-ae31429279e6\",\"type\":\"BasicTicker\"},{\"attributes\":{},\"id\":\"f6142705-9d68-49e1-a0c2-d7942c78ee95\",\"type\":\"BasicTickFormatter\"},{\"attributes\":{\"plot\":{\"id\":\"a7d1fd33-5722-4900-a095-79fa33c567d6\",\"subtype\":\"Figure\",\"type\":\"Plot\"},\"ticker\":{\"id\":\"2ed09c61-5861-4994-a0f1-6fdd3f3912f3\",\"type\":\"BasicTicker\"}},\"id\":\"a145de72-e7e2-4bb0-a9ea-b5569e397243\",\"type\":\"Grid\"},{\"attributes\":{\"fill_alpha\":{\"value\":0.1},\"fill_color\":{\"value\":\"#1f77b4\"},\"line_alpha\":{\"value\":0.1},\"line_color\":{\"value\":\"#1f77b4\"},\"size\":{\"units\":\"screen\",\"value\":20},\"x\":{\"field\":\"x\"},\"y\":{\"field\":\"y\"}},\"id\":\"9eb2239c-32bc-4054-9dd6-056e8f6e5ee8\",\"type\":\"Circle\"},{\"attributes\":{\"data_source\":{\"id\":\"4bb653df-aff2-4582-8fd0-f6a7969fce9c\",\"type\":\"ColumnDataSource\"},\"glyph\":{\"id\":\"12cf0134-08d4-466e-baff-b5261cc1952d\",\"type\":\"Circle\"},\"hover_glyph\":null,\"nonselection_glyph\":{\"id\":\"9eb2239c-32bc-4054-9dd6-056e8f6e5ee8\",\"type\":\"Circle\"},\"selection_glyph\":null},\"id\":\"4141f457-7a82-44f6-be63-61c019354019\",\"type\":\"GlyphRenderer\"},{\"attributes\":{\"plot\":{\"id\":\"4580d804-0b81-4052-9b23-607d1488e3bd\",\"subtype\":\"Figure\",\"type\":\"Plot\"}},\"id\":\"035446da-423f-43c5-8d5a-27ca52389949\",\"type\":\"HelpTool\"},{\"attributes\":{\"formatter\":{\"id\":\"92a5dfdf-8312-4dee-ac85-10dbf8ff70d0\",\"type\":\"BasicTickFormatter\"},\"plot\":{\"id\":\"a7d1fd33-5722-4900-a095-79fa33c567d6\",\"subtype\":\"Figure\",\"type\":\"Plot\"},\"ticker\":{\"id\":\"2ed09c61-5861-4994-a0f1-6fdd3f3912f3\",\"type\":\"BasicTicker\"}},\"id\":\"f2cc5f3b-bd42-476c-a327-efcf56027a56\",\"type\":\"LinearAxis\"},{\"attributes\":{\"callback\":null,\"column_names\":[\"y\",\"x\"],\"data\":{\"x\":[1,2],\"y\":[3,4]}},\"id\":\"3b1f37b8-af53-42cc-9467-1440daa7a407\",\"type\":\"ColumnDataSource\"},{\"attributes\":{\"overlay\":{\"id\":\"a6df27ce-b76e-4002-92ad-83e947b13459\",\"type\":\"BoxAnnotation\"},\"plot\":{\"id\":\"661569e1-1680-4623-af4b-c4a801445e66\",\"subtype\":\"Figure\",\"type\":\"Plot\"}},\"id\":\"3a657178-68f7-40e0-b1d4-9960796627fd\",\"type\":\"BoxZoomTool\"},{\"attributes\":{\"plot\":{\"id\":\"661569e1-1680-4623-af4b-c4a801445e66\",\"subtype\":\"Figure\",\"type\":\"Plot\"},\"ticker\":{\"id\":\"2e6b951a-ce80-4040-a5ff-3512a7b4ceff\",\"type\":\"BasicTicker\"}},\"id\":\"303f94fd-55de-49d1-aa33-93b589b8d369\",\"type\":\"Grid\"},{\"attributes\":{\"plot\":{\"id\":\"a7d1fd33-5722-4900-a095-79fa33c567d6\",\"subtype\":\"Figure\",\"type\":\"Plot\"}},\"id\":\"8b95898a-1d45-49a9-86cf-e8a0932e99f2\",\"type\":\"WheelZoomTool\"},{\"attributes\":{\"plot\":{\"id\":\"661569e1-1680-4623-af4b-c4a801445e66\",\"subtype\":\"Figure\",\"type\":\"Plot\"}},\"id\":\"61e31957-48c5-48f5-858e-7fe7065e8a2a\",\"type\":\"HelpTool\"},{\"attributes\":{\"plot\":{\"id\":\"4580d804-0b81-4052-9b23-607d1488e3bd\",\"subtype\":\"Figure\",\"type\":\"Plot\"}},\"id\":\"6bdc9d72-bc58-4cca-a02b-aa3865411281\",\"type\":\"PanTool\"},{\"attributes\":{\"plot\":{\"id\":\"661569e1-1680-4623-af4b-c4a801445e66\",\"subtype\":\"Figure\",\"type\":\"Plot\"}},\"id\":\"62fc09e4-8624-4603-9aad-998f62dceaae\",\"type\":\"WheelZoomTool\"},{\"attributes\":{\"fill_color\":{\"value\":\"#1f77b4\"},\"line_color\":{\"value\":\"#1f77b4\"},\"size\":{\"units\":\"screen\",\"value\":20},\"x\":{\"field\":\"x\"},\"y\":{\"field\":\"y\"}},\"id\":\"12cf0134-08d4-466e-baff-b5261cc1952d\",\"type\":\"Circle\"},{\"attributes\":{\"plot\":{\"id\":\"2c45ec8e-93a8-453e-a79b-9f887d3d558d\",\"subtype\":\"Figure\",\"type\":\"Plot\"}},\"id\":\"d7174220-ff26-4aaf-88a2-177d53b6fcbe\",\"type\":\"WheelZoomTool\"},{\"attributes\":{\"callback\":null},\"id\":\"8fb1c867-822e-4e2b-8338-13e578173471\",\"type\":\"DataRange1d\"},{\"attributes\":{\"below\":[{\"id\":\"9ce14f07-5eb8-4bc2-870b-69f15427b0a3\",\"type\":\"LinearAxis\"}],\"left\":[{\"id\":\"49584981-cf0e-4059-8c91-e2d8a078087e\",\"type\":\"LinearAxis\"}],\"plot_height\":100,\"plot_width\":400,\"renderers\":[{\"id\":\"9ce14f07-5eb8-4bc2-870b-69f15427b0a3\",\"type\":\"LinearAxis\"},{\"id\":\"d76996bd-d800-4350-9758-f1de2030687b\",\"type\":\"Grid\"},{\"id\":\"49584981-cf0e-4059-8c91-e2d8a078087e\",\"type\":\"LinearAxis\"},{\"id\":\"fadf364a-ba1f-4a4b-8e50-c1f31bc559f9\",\"type\":\"Grid\"},{\"id\":\"78fb252b-9572-4b39-b63b-f1214c69b7dd\",\"type\":\"BoxAnnotation\"},{\"id\":\"b1e655f5-8e7a-4709-a6e7-02915212ca37\",\"type\":\"GlyphRenderer\"}],\"responsive\":\"width_ar\",\"tool_events\":{\"id\":\"968115ba-5e5c-470f-9989-7085bfa348b7\",\"type\":\"ToolEvents\"},\"toolbar\":{\"id\":\"777083ac-2389-4edb-8aa2-2836b8c4e0c6\",\"type\":\"Toolbar\"},\"x_range\":{\"id\":\"30a4afc1-ec8e-418e-94b7-b4b061141836\",\"type\":\"DataRange1d\"},\"y_range\":{\"id\":\"d4e18bf6-67f4-4525-9c1d-c017b47ce16a\",\"type\":\"DataRange1d\"}},\"id\":\"022877aa-4735-426c-9401-a2719a3b3cde\",\"subtype\":\"Figure\",\"type\":\"Plot\"},{\"attributes\":{\"bottom_units\":\"screen\",\"fill_alpha\":{\"value\":0.5},\"fill_color\":{\"value\":\"lightgrey\"},\"left_units\":\"screen\",\"level\":\"overlay\",\"line_alpha\":{\"value\":1.0},\"line_color\":{\"value\":\"black\"},\"line_dash\":[4,4],\"line_width\":{\"value\":2},\"plot\":null,\"render_mode\":\"css\",\"right_units\":\"screen\",\"top_units\":\"screen\"},\"id\":\"882a5e42-7261-498c-9635-46c4ea3c0a55\",\"type\":\"BoxAnnotation\"},{\"attributes\":{\"plot\":{\"id\":\"a7d1fd33-5722-4900-a095-79fa33c567d6\",\"subtype\":\"Figure\",\"type\":\"Plot\"}},\"id\":\"fd830339-04f0-491e-bd86-b8db51916b98\",\"type\":\"ResetTool\"},{\"attributes\":{\"plot\":{\"id\":\"05a32739-467f-4993-ad19-8af596228bc4\",\"subtype\":\"Figure\",\"type\":\"Plot\"}},\"id\":\"c3f3bf65-097e-4e6c-90de-8b08fdb68f53\",\"type\":\"WheelZoomTool\"},{\"attributes\":{\"callback\":null},\"id\":\"30a4afc1-ec8e-418e-94b7-b4b061141836\",\"type\":\"DataRange1d\"},{\"attributes\":{\"plot\":{\"id\":\"661569e1-1680-4623-af4b-c4a801445e66\",\"subtype\":\"Figure\",\"type\":\"Plot\"}},\"id\":\"62e3f121-2f0a-40ca-8c9a-78d2eaf1abf3\",\"type\":\"ResetTool\"},{\"attributes\":{\"fill_alpha\":{\"value\":0.1},\"fill_color\":{\"value\":\"#1f77b4\"},\"line_alpha\":{\"value\":0.1},\"line_color\":{\"value\":\"#1f77b4\"},\"size\":{\"units\":\"screen\",\"value\":20},\"x\":{\"field\":\"x\"},\"y\":{\"field\":\"y\"}},\"id\":\"55042a00-bc0f-4d81-bdf1-3bb4c9435d24\",\"type\":\"Circle\"},{\"attributes\":{\"dimension\":1,\"plot\":{\"id\":\"05a32739-467f-4993-ad19-8af596228bc4\",\"subtype\":\"Figure\",\"type\":\"Plot\"},\"ticker\":{\"id\":\"64a7a1e4-8ac6-4efc-b6a0-1f2f45a90285\",\"type\":\"BasicTicker\"}},\"id\":\"39b5fbc9-39fd-4522-907e-c9ace3ffbbe0\",\"type\":\"Grid\"},{\"attributes\":{\"fill_alpha\":{\"value\":0.1},\"fill_color\":{\"value\":\"#1f77b4\"},\"line_alpha\":{\"value\":0.1},\"line_color\":{\"value\":\"#1f77b4\"},\"size\":{\"units\":\"screen\",\"value\":20},\"x\":{\"field\":\"x\"},\"y\":{\"field\":\"y\"}},\"id\":\"4668330c-ff53-48fc-848b-f214b6520e0a\",\"type\":\"Circle\"},{\"attributes\":{\"plot\":{\"id\":\"05a32739-467f-4993-ad19-8af596228bc4\",\"subtype\":\"Figure\",\"type\":\"Plot\"},\"ticker\":{\"id\":\"93666888-e30a-4604-9e9d-d7baf9a1149d\",\"type\":\"BasicTicker\"}},\"id\":\"4816c7f9-45e7-4f68-aff5-a0c4ff3dad93\",\"type\":\"Grid\"},{\"attributes\":{\"plot\":{\"id\":\"661569e1-1680-4623-af4b-c4a801445e66\",\"subtype\":\"Figure\",\"type\":\"Plot\"}},\"id\":\"ccb7e53d-06fd-41ef-9fae-f24793342cc2\",\"type\":\"ResizeTool\"},{\"attributes\":{\"formatter\":{\"id\":\"6a44932a-73b8-4908-a67f-a1bde41d7c31\",\"type\":\"BasicTickFormatter\"},\"plot\":{\"id\":\"022877aa-4735-426c-9401-a2719a3b3cde\",\"subtype\":\"Figure\",\"type\":\"Plot\"},\"ticker\":{\"id\":\"e8ea8878-e091-4f09-a449-1b4c1b70956b\",\"type\":\"BasicTicker\"}},\"id\":\"49584981-cf0e-4059-8c91-e2d8a078087e\",\"type\":\"LinearAxis\"},{\"attributes\":{\"dimension\":1,\"plot\":{\"id\":\"4580d804-0b81-4052-9b23-607d1488e3bd\",\"subtype\":\"Figure\",\"type\":\"Plot\"},\"ticker\":{\"id\":\"9244ebfc-5289-4e04-9a89-d608958bee94\",\"type\":\"BasicTicker\"}},\"id\":\"7d1b14b1-7def-43b4-9b36-3d545c7aa769\",\"type\":\"Grid\"},{\"attributes\":{},\"id\":\"93666888-e30a-4604-9e9d-d7baf9a1149d\",\"type\":\"BasicTicker\"},{\"attributes\":{\"plot\":{\"id\":\"4580d804-0b81-4052-9b23-607d1488e3bd\",\"subtype\":\"Figure\",\"type\":\"Plot\"}},\"id\":\"519ee1b8-b01c-415a-a5dc-e512a37c4e1e\",\"type\":\"WheelZoomTool\"},{\"attributes\":{},\"id\":\"9140fe94-f0a4-4a9b-b09f-5e3a8cb355dd\",\"type\":\"BasicTickFormatter\"},{\"attributes\":{},\"id\":\"64a7a1e4-8ac6-4efc-b6a0-1f2f45a90285\",\"type\":\"BasicTicker\"},{\"attributes\":{\"tools\":[{\"id\":\"6bdc9d72-bc58-4cca-a02b-aa3865411281\",\"type\":\"PanTool\"},{\"id\":\"519ee1b8-b01c-415a-a5dc-e512a37c4e1e\",\"type\":\"WheelZoomTool\"},{\"id\":\"b3c2f43e-7bfa-4459-a66e-0759172c5580\",\"type\":\"BoxZoomTool\"},{\"id\":\"b139f965-b0bf-4e8b-8faa-7431d4f830a7\",\"type\":\"SaveTool\"},{\"id\":\"528360ca-0ffa-455b-9ce7-acd13214e959\",\"type\":\"ResizeTool\"},{\"id\":\"8c1f002c-c7c4-4a88-bed5-0ce6e9b62aad\",\"type\":\"ResetTool\"},{\"id\":\"035446da-423f-43c5-8d5a-27ca52389949\",\"type\":\"HelpTool\"}]},\"id\":\"bfe1a2d2-7dd1-40be-a506-30d5015e5737\",\"type\":\"Toolbar\"},{\"attributes\":{\"tools\":[{\"id\":\"3d32ee53-84ed-469f-80d5-7cbe7c8ec478\",\"type\":\"PanTool\"},{\"id\":\"77951e51-02a2-4e40-bf2b-58125287bb38\",\"type\":\"WheelZoomTool\"},{\"id\":\"f49892a3-5cee-426c-9040-565d6a8abe0b\",\"type\":\"BoxZoomTool\"},{\"id\":\"ac00b236-8fe7-4422-9784-f6b12d89528b\",\"type\":\"SaveTool\"},{\"id\":\"23fda496-e7b9-413b-8a57-d571155d23db\",\"type\":\"ResizeTool\"},{\"id\":\"f06370a5-49e7-4d3a-bb5e-9df787bedaac\",\"type\":\"ResetTool\"},{\"id\":\"806286f0-756d-4f62-a014-5cbb124869f5\",\"type\":\"HelpTool\"}]},\"id\":\"777083ac-2389-4edb-8aa2-2836b8c4e0c6\",\"type\":\"Toolbar\"},{\"attributes\":{\"formatter\":{\"id\":\"b8983765-e769-4323-bab5-d82c5e0867a4\",\"type\":\"BasicTickFormatter\"},\"plot\":{\"id\":\"2c45ec8e-93a8-453e-a79b-9f887d3d558d\",\"subtype\":\"Figure\",\"type\":\"Plot\"},\"ticker\":{\"id\":\"f4e1d02e-c239-434d-9a1c-20da7cc8486f\",\"type\":\"BasicTicker\"}},\"id\":\"7b29f5c2-20fe-452f-87e2-421022cdb556\",\"type\":\"LinearAxis\"},{\"attributes\":{\"data_source\":{\"id\":\"920bce2c-7d39-4dde-b5df-59eb5c0b0ea8\",\"type\":\"ColumnDataSource\"},\"glyph\":{\"id\":\"81c12f74-bea8-446a-90f1-8b0c25558ade\",\"type\":\"Circle\"},\"hover_glyph\":null,\"nonselection_glyph\":{\"id\":\"4668330c-ff53-48fc-848b-f214b6520e0a\",\"type\":\"Circle\"},\"selection_glyph\":null},\"id\":\"828b5efe-fa28-4b30-83cf-28f4da966c38\",\"type\":\"GlyphRenderer\"},{\"attributes\":{\"bottom_units\":\"screen\",\"fill_alpha\":{\"value\":0.5},\"fill_color\":{\"value\":\"lightgrey\"},\"left_units\":\"screen\",\"level\":\"overlay\",\"line_alpha\":{\"value\":1.0},\"line_color\":{\"value\":\"black\"},\"line_dash\":[4,4],\"line_width\":{\"value\":2},\"plot\":null,\"render_mode\":\"css\",\"right_units\":\"screen\",\"top_units\":\"screen\"},\"id\":\"9820fe28-fcc1-4767-9098-535d76790c3c\",\"type\":\"BoxAnnotation\"},{\"attributes\":{\"plot\":{\"id\":\"05a32739-467f-4993-ad19-8af596228bc4\",\"subtype\":\"Figure\",\"type\":\"Plot\"}},\"id\":\"b5eb3094-8c93-4a01-b357-a541bc681537\",\"type\":\"ResetTool\"},{\"attributes\":{\"formatter\":{\"id\":\"f6142705-9d68-49e1-a0c2-d7942c78ee95\",\"type\":\"BasicTickFormatter\"},\"plot\":{\"id\":\"661569e1-1680-4623-af4b-c4a801445e66\",\"subtype\":\"Figure\",\"type\":\"Plot\"},\"ticker\":{\"id\":\"3365f07a-70fb-4cd1-90aa-ae31429279e6\",\"type\":\"BasicTicker\"}},\"id\":\"5c134e3d-dd2c-4b88-9a4b-c42b318e7686\",\"type\":\"LinearAxis\"},{\"attributes\":{\"formatter\":{\"id\":\"85e376dc-cd30-4964-9b5f-d1ad3cd685d1\",\"type\":\"BasicTickFormatter\"},\"plot\":{\"id\":\"661569e1-1680-4623-af4b-c4a801445e66\",\"subtype\":\"Figure\",\"type\":\"Plot\"},\"ticker\":{\"id\":\"2e6b951a-ce80-4040-a5ff-3512a7b4ceff\",\"type\":\"BasicTicker\"}},\"id\":\"4e8e4426-f28d-444e-ab9a-c126f5db5f58\",\"type\":\"LinearAxis\"},{\"attributes\":{\"formatter\":{\"id\":\"f48c531a-c3e2-4840-8590-4cd64223637b\",\"type\":\"BasicTickFormatter\"},\"plot\":{\"id\":\"022877aa-4735-426c-9401-a2719a3b3cde\",\"subtype\":\"Figure\",\"type\":\"Plot\"},\"ticker\":{\"id\":\"5a31d4cc-b90c-49e0-9c1f-8d8de7591935\",\"type\":\"BasicTicker\"}},\"id\":\"9ce14f07-5eb8-4bc2-870b-69f15427b0a3\",\"type\":\"LinearAxis\"},{\"attributes\":{\"plot\":{\"id\":\"4580d804-0b81-4052-9b23-607d1488e3bd\",\"subtype\":\"Figure\",\"type\":\"Plot\"}},\"id\":\"b139f965-b0bf-4e8b-8faa-7431d4f830a7\",\"type\":\"SaveTool\"},{\"attributes\":{},\"id\":\"2e6b951a-ce80-4040-a5ff-3512a7b4ceff\",\"type\":\"BasicTicker\"},{\"attributes\":{\"below\":[{\"id\":\"4e8e4426-f28d-444e-ab9a-c126f5db5f58\",\"type\":\"LinearAxis\"}],\"left\":[{\"id\":\"5c134e3d-dd2c-4b88-9a4b-c42b318e7686\",\"type\":\"LinearAxis\"}],\"plot_height\":100,\"plot_width\":400,\"renderers\":[{\"id\":\"4e8e4426-f28d-444e-ab9a-c126f5db5f58\",\"type\":\"LinearAxis\"},{\"id\":\"303f94fd-55de-49d1-aa33-93b589b8d369\",\"type\":\"Grid\"},{\"id\":\"5c134e3d-dd2c-4b88-9a4b-c42b318e7686\",\"type\":\"LinearAxis\"},{\"id\":\"1033138d-84a4-4c2f-b286-d3b7e280bd4f\",\"type\":\"Grid\"},{\"id\":\"a6df27ce-b76e-4002-92ad-83e947b13459\",\"type\":\"BoxAnnotation\"},{\"id\":\"828b5efe-fa28-4b30-83cf-28f4da966c38\",\"type\":\"GlyphRenderer\"}],\"responsive\":\"width_ar\",\"tool_events\":{\"id\":\"7433268f-17f5-4382-b5a2-bc957ad4bd01\",\"type\":\"ToolEvents\"},\"toolbar\":{\"id\":\"a9e5f431-7f12-4dd5-ad20-be1647da8653\",\"type\":\"Toolbar\"},\"x_range\":{\"id\":\"8531fc5b-f31b-4c5e-823b-db32e385699f\",\"type\":\"DataRange1d\"},\"y_range\":{\"id\":\"c2b36aaf-f978-43b9-942e-19a08a974ba2\",\"type\":\"DataRange1d\"}},\"id\":\"661569e1-1680-4623-af4b-c4a801445e66\",\"subtype\":\"Figure\",\"type\":\"Plot\"},{\"attributes\":{},\"id\":\"e0ac498f-0c70-4607-bf35-6211193eaa74\",\"type\":\"ToolEvents\"},{\"attributes\":{\"bottom_units\":\"screen\",\"fill_alpha\":{\"value\":0.5},\"fill_color\":{\"value\":\"lightgrey\"},\"left_units\":\"screen\",\"level\":\"overlay\",\"line_alpha\":{\"value\":1.0},\"line_color\":{\"value\":\"black\"},\"line_dash\":[4,4],\"line_width\":{\"value\":2},\"plot\":null,\"render_mode\":\"css\",\"right_units\":\"screen\",\"top_units\":\"screen\"},\"id\":\"31e2ad5b-9b1e-4ac6-b23e-033f0c78edd1\",\"type\":\"BoxAnnotation\"},{\"attributes\":{\"callback\":null},\"id\":\"73f45598-5636-405d-ad4c-ffc7be12318c\",\"type\":\"DataRange1d\"},{\"attributes\":{},\"id\":\"f690927d-3f4a-4e55-abac-ced75f2d927b\",\"type\":\"BasicTicker\"},{\"attributes\":{\"bottom_units\":\"screen\",\"fill_alpha\":{\"value\":0.5},\"fill_color\":{\"value\":\"lightgrey\"},\"left_units\":\"screen\",\"level\":\"overlay\",\"line_alpha\":{\"value\":1.0},\"line_color\":{\"value\":\"black\"},\"line_dash\":[4,4],\"line_width\":{\"value\":2},\"plot\":null,\"render_mode\":\"css\",\"right_units\":\"screen\",\"top_units\":\"screen\"},\"id\":\"78fb252b-9572-4b39-b63b-f1214c69b7dd\",\"type\":\"BoxAnnotation\"},{\"attributes\":{},\"id\":\"e8ea8878-e091-4f09-a449-1b4c1b70956b\",\"type\":\"BasicTicker\"},{\"attributes\":{\"plot\":{\"id\":\"4580d804-0b81-4052-9b23-607d1488e3bd\",\"subtype\":\"Figure\",\"type\":\"Plot\"}},\"id\":\"528360ca-0ffa-455b-9ce7-acd13214e959\",\"type\":\"ResizeTool\"},{\"attributes\":{\"plot\":{\"id\":\"661569e1-1680-4623-af4b-c4a801445e66\",\"subtype\":\"Figure\",\"type\":\"Plot\"}},\"id\":\"287c2ef4-548b-47fa-9916-c8c59e784b23\",\"type\":\"PanTool\"},{\"attributes\":{\"below\":[{\"id\":\"f2cc5f3b-bd42-476c-a327-efcf56027a56\",\"type\":\"LinearAxis\"}],\"left\":[{\"id\":\"29c77608-4951-4769-a81a-f548f842cc41\",\"type\":\"LinearAxis\"}],\"plot_height\":100,\"plot_width\":400,\"renderers\":[{\"id\":\"f2cc5f3b-bd42-476c-a327-efcf56027a56\",\"type\":\"LinearAxis\"},{\"id\":\"a145de72-e7e2-4bb0-a9ea-b5569e397243\",\"type\":\"Grid\"},{\"id\":\"29c77608-4951-4769-a81a-f548f842cc41\",\"type\":\"LinearAxis\"},{\"id\":\"fe45b92a-669d-44de-8461-9c83573be50f\",\"type\":\"Grid\"},{\"id\":\"31e2ad5b-9b1e-4ac6-b23e-033f0c78edd1\",\"type\":\"BoxAnnotation\"},{\"id\":\"e982b7c0-5fbc-4bb8-93e0-89124c817421\",\"type\":\"GlyphRenderer\"}],\"responsive\":\"width_ar\",\"tool_events\":{\"id\":\"8019c6c2-c785-4332-a799-476ab5cd0493\",\"type\":\"ToolEvents\"},\"toolbar\":{\"id\":\"5d9255fe-8f76-463d-b040-fdaa74c56002\",\"type\":\"Toolbar\"},\"x_range\":{\"id\":\"b1e3ab6d-e308-42b1-b6fc-72f666c38f88\",\"type\":\"DataRange1d\"},\"y_range\":{\"id\":\"e4c4123d-c50a-42c3-84be-43f33125cec2\",\"type\":\"DataRange1d\"}},\"id\":\"a7d1fd33-5722-4900-a095-79fa33c567d6\",\"subtype\":\"Figure\",\"type\":\"Plot\"},{\"attributes\":{\"callback\":null,\"column_names\":[\"y\",\"x\"],\"data\":{\"x\":[1,2],\"y\":[3,4]}},\"id\":\"c12c9c32-2852-40bd-9306-06e9b9f81b2a\",\"type\":\"ColumnDataSource\"},{\"attributes\":{\"data_source\":{\"id\":\"3b1f37b8-af53-42cc-9467-1440daa7a407\",\"type\":\"ColumnDataSource\"},\"glyph\":{\"id\":\"de7ea049-d706-44f8-b060-09a5b31bd580\",\"type\":\"Circle\"},\"hover_glyph\":null,\"nonselection_glyph\":{\"id\":\"5fe3115c-4382-4eb2-8ab7-b59d38c4cfdf\",\"type\":\"Circle\"},\"selection_glyph\":null},\"id\":\"b1e655f5-8e7a-4709-a6e7-02915212ca37\",\"type\":\"GlyphRenderer\"},{\"attributes\":{\"plot\":{\"id\":\"2c45ec8e-93a8-453e-a79b-9f887d3d558d\",\"subtype\":\"Figure\",\"type\":\"Plot\"}},\"id\":\"4284272d-b2af-4670-9115-009dfb84ac50\",\"type\":\"ResizeTool\"},{\"attributes\":{\"plot\":{\"id\":\"2c45ec8e-93a8-453e-a79b-9f887d3d558d\",\"subtype\":\"Figure\",\"type\":\"Plot\"}},\"id\":\"8fba584b-35a2-4eeb-8947-9f0d8bc04448\",\"type\":\"HelpTool\"},{\"attributes\":{\"data_source\":{\"id\":\"06c91a34-3215-4488-ab66-3a743f410e69\",\"type\":\"ColumnDataSource\"},\"glyph\":{\"id\":\"f29084f3-4291-4644-b738-e77435158b89\",\"type\":\"Circle\"},\"hover_glyph\":null,\"nonselection_glyph\":{\"id\":\"55042a00-bc0f-4d81-bdf1-3bb4c9435d24\",\"type\":\"Circle\"},\"selection_glyph\":null},\"id\":\"44199b5a-4dd9-410c-bd21-d6b373cf715b\",\"type\":\"GlyphRenderer\"},{\"attributes\":{},\"id\":\"643d1f7e-1da7-41e7-b532-1b2b5613c99a\",\"type\":\"BasicTickFormatter\"},{\"attributes\":{},\"id\":\"61427a1a-d1f2-4ceb-bad5-e977c742a872\",\"type\":\"ToolEvents\"},{\"attributes\":{\"plot\":{\"id\":\"4580d804-0b81-4052-9b23-607d1488e3bd\",\"subtype\":\"Figure\",\"type\":\"Plot\"},\"ticker\":{\"id\":\"89d42765-2532-41a1-94f9-476d56112b30\",\"type\":\"BasicTicker\"}},\"id\":\"c3aecefe-ebe9-44cf-ab4c-4b674bcc4878\",\"type\":\"Grid\"},{\"attributes\":{\"callback\":null},\"id\":\"a25877ec-4d92-4b97-8226-4aef846f2633\",\"type\":\"DataRange1d\"},{\"attributes\":{},\"id\":\"3423f941-1aed-422d-8a39-d62a2d01a03d\",\"type\":\"BasicTickFormatter\"},{\"attributes\":{\"callback\":null,\"column_names\":[\"y\",\"x\"],\"data\":{\"x\":[1,2],\"y\":[3,4]}},\"id\":\"4bb653df-aff2-4582-8fd0-f6a7969fce9c\",\"type\":\"ColumnDataSource\"},{\"attributes\":{\"overlay\":{\"id\":\"31e2ad5b-9b1e-4ac6-b23e-033f0c78edd1\",\"type\":\"BoxAnnotation\"},\"plot\":{\"id\":\"a7d1fd33-5722-4900-a095-79fa33c567d6\",\"subtype\":\"Figure\",\"type\":\"Plot\"}},\"id\":\"232280ae-065c-48c6-924a-84fd25092d8c\",\"type\":\"BoxZoomTool\"},{\"attributes\":{\"fill_alpha\":{\"value\":0.1},\"fill_color\":{\"value\":\"#1f77b4\"},\"line_alpha\":{\"value\":0.1},\"line_color\":{\"value\":\"#1f77b4\"},\"size\":{\"units\":\"screen\",\"value\":20},\"x\":{\"field\":\"x\"},\"y\":{\"field\":\"y\"}},\"id\":\"5fe3115c-4382-4eb2-8ab7-b59d38c4cfdf\",\"type\":\"Circle\"},{\"attributes\":{\"plot\":{\"id\":\"2c45ec8e-93a8-453e-a79b-9f887d3d558d\",\"subtype\":\"Figure\",\"type\":\"Plot\"},\"ticker\":{\"id\":\"f690927d-3f4a-4e55-abac-ced75f2d927b\",\"type\":\"BasicTicker\"}},\"id\":\"70ae5a7c-dd4b-415c-adb9-e128d3feee01\",\"type\":\"Grid\"},{\"attributes\":{\"bottom_units\":\"screen\",\"fill_alpha\":{\"value\":0.5},\"fill_color\":{\"value\":\"lightgrey\"},\"left_units\":\"screen\",\"level\":\"overlay\",\"line_alpha\":{\"value\":1.0},\"line_color\":{\"value\":\"black\"},\"line_dash\":[4,4],\"line_width\":{\"value\":2},\"plot\":null,\"render_mode\":\"css\",\"right_units\":\"screen\",\"top_units\":\"screen\"},\"id\":\"734b647c-9203-4ebc-883d-108173c26ab0\",\"type\":\"BoxAnnotation\"},{\"attributes\":{\"children\":[{\"id\":\"05a32739-467f-4993-ad19-8af596228bc4\",\"subtype\":\"Figure\",\"type\":\"Plot\"},{\"id\":\"2c45ec8e-93a8-453e-a79b-9f887d3d558d\",\"subtype\":\"Figure\",\"type\":\"Plot\"}],\"responsive\":\"width_ar\"},\"id\":\"31cad3d7-e5d2-45c6-b122-d2411750e387\",\"type\":\"Column\"},{\"attributes\":{},\"id\":\"8019c6c2-c785-4332-a799-476ab5cd0493\",\"type\":\"ToolEvents\"},{\"attributes\":{\"fill_alpha\":{\"value\":0.1},\"fill_color\":{\"value\":\"#1f77b4\"},\"line_alpha\":{\"value\":0.1},\"line_color\":{\"value\":\"#1f77b4\"},\"size\":{\"units\":\"screen\",\"value\":20},\"x\":{\"field\":\"x\"},\"y\":{\"field\":\"y\"}},\"id\":\"099ae09e-ad68-4f22-9f7b-b31f0444e68c\",\"type\":\"Circle\"},{\"attributes\":{\"plot\":{\"id\":\"2c45ec8e-93a8-453e-a79b-9f887d3d558d\",\"subtype\":\"Figure\",\"type\":\"Plot\"}},\"id\":\"9aa900c0-fd85-4c5a-9f79-04f16281820e\",\"type\":\"ResetTool\"},{\"attributes\":{\"dimension\":1,\"plot\":{\"id\":\"661569e1-1680-4623-af4b-c4a801445e66\",\"subtype\":\"Figure\",\"type\":\"Plot\"},\"ticker\":{\"id\":\"3365f07a-70fb-4cd1-90aa-ae31429279e6\",\"type\":\"BasicTicker\"}},\"id\":\"1033138d-84a4-4c2f-b286-d3b7e280bd4f\",\"type\":\"Grid\"},{\"attributes\":{\"fill_color\":{\"value\":\"#1f77b4\"},\"line_color\":{\"value\":\"#1f77b4\"},\"size\":{\"units\":\"screen\",\"value\":20},\"x\":{\"field\":\"x\"},\"y\":{\"field\":\"y\"}},\"id\":\"574e02a5-6c4f-4da3-a524-f6eb0dbe3efb\",\"type\":\"Circle\"},{\"attributes\":{\"overlay\":{\"id\":\"734b647c-9203-4ebc-883d-108173c26ab0\",\"type\":\"BoxAnnotation\"},\"plot\":{\"id\":\"4580d804-0b81-4052-9b23-607d1488e3bd\",\"subtype\":\"Figure\",\"type\":\"Plot\"}},\"id\":\"b3c2f43e-7bfa-4459-a66e-0759172c5580\",\"type\":\"BoxZoomTool\"},{\"attributes\":{\"fill_color\":{\"value\":\"#1f77b4\"},\"line_color\":{\"value\":\"#1f77b4\"},\"size\":{\"units\":\"screen\",\"value\":20},\"x\":{\"field\":\"x\"},\"y\":{\"field\":\"y\"}},\"id\":\"f29084f3-4291-4644-b738-e77435158b89\",\"type\":\"Circle\"},{\"attributes\":{\"children\":[{\"id\":\"661569e1-1680-4623-af4b-c4a801445e66\",\"subtype\":\"Figure\",\"type\":\"Plot\"},{\"id\":\"4580d804-0b81-4052-9b23-607d1488e3bd\",\"subtype\":\"Figure\",\"type\":\"Plot\"}]},\"id\":\"c805346a-fe63-4eda-8e79-c02aaf4684eb\",\"type\":\"Column\"},{\"attributes\":{\"fill_color\":{\"value\":\"#1f77b4\"},\"line_color\":{\"value\":\"#1f77b4\"},\"size\":{\"units\":\"screen\",\"value\":20},\"x\":{\"field\":\"x\"},\"y\":{\"field\":\"y\"}},\"id\":\"81c12f74-bea8-446a-90f1-8b0c25558ade\",\"type\":\"Circle\"},{\"attributes\":{\"formatter\":{\"id\":\"9b90be56-73a5-4447-8548-e9b81712e97f\",\"type\":\"BasicTickFormatter\"},\"plot\":{\"id\":\"05a32739-467f-4993-ad19-8af596228bc4\",\"subtype\":\"Figure\",\"type\":\"Plot\"},\"ticker\":{\"id\":\"93666888-e30a-4604-9e9d-d7baf9a1149d\",\"type\":\"BasicTicker\"}},\"id\":\"ebc5386a-5866-45be-a203-92f2d8645970\",\"type\":\"LinearAxis\"},{\"attributes\":{\"children\":[{\"id\":\"022877aa-4735-426c-9401-a2719a3b3cde\",\"subtype\":\"Figure\",\"type\":\"Plot\"}],\"responsive\":\"width_ar\"},\"id\":\"f7630eb9-b386-46fc-8d0a-5ec98f71ee96\",\"type\":\"Row\"},{\"attributes\":{\"plot\":{\"id\":\"661569e1-1680-4623-af4b-c4a801445e66\",\"subtype\":\"Figure\",\"type\":\"Plot\"}},\"id\":\"96c3b104-f0e1-4e9c-8b81-f8c1b6a98800\",\"type\":\"SaveTool\"},{\"attributes\":{},\"id\":\"79ac7eae-628b-47f1-a480-3967c36438ab\",\"type\":\"BasicTickFormatter\"},{\"attributes\":{\"callback\":null},\"id\":\"e4c4123d-c50a-42c3-84be-43f33125cec2\",\"type\":\"DataRange1d\"},{\"attributes\":{\"plot\":{\"id\":\"2c45ec8e-93a8-453e-a79b-9f887d3d558d\",\"subtype\":\"Figure\",\"type\":\"Plot\"}},\"id\":\"6c4fea74-d1c5-45de-9ada-9c59dfb3b878\",\"type\":\"SaveTool\"},{\"attributes\":{\"plot\":{\"id\":\"a7d1fd33-5722-4900-a095-79fa33c567d6\",\"subtype\":\"Figure\",\"type\":\"Plot\"}},\"id\":\"f0932eb1-9520-4ce5-b82e-f6a28613f848\",\"type\":\"SaveTool\"},{\"attributes\":{\"callback\":null},\"id\":\"0e467c76-e3af-431e-95cc-052a3addfd54\",\"type\":\"DataRange1d\"},{\"attributes\":{\"callback\":null},\"id\":\"8531fc5b-f31b-4c5e-823b-db32e385699f\",\"type\":\"DataRange1d\"},{\"attributes\":{},\"id\":\"2394dcd9-140f-4980-abc2-29a22f859257\",\"type\":\"BasicTicker\"},{\"attributes\":{},\"id\":\"fe57472c-92aa-4ac0-a2cb-4db3ffa1ceee\",\"type\":\"BasicTickFormatter\"},{\"attributes\":{\"plot\":{\"id\":\"05a32739-467f-4993-ad19-8af596228bc4\",\"subtype\":\"Figure\",\"type\":\"Plot\"}},\"id\":\"a4529b48-1810-4119-ac28-80c7e63a8c3c\",\"type\":\"ResizeTool\"},{\"attributes\":{\"children\":[{\"id\":\"cc12bf61-4744-4c4f-8918-1c98108aa2e1\",\"type\":\"Row\"},{\"id\":\"f7630eb9-b386-46fc-8d0a-5ec98f71ee96\",\"type\":\"Row\"}],\"responsive\":\"width_ar\"},\"id\":\"96867ee8-e4a7-4e00-a952-fedf2ab1476e\",\"type\":\"Column\"},{\"attributes\":{\"plot\":{\"id\":\"022877aa-4735-426c-9401-a2719a3b3cde\",\"subtype\":\"Figure\",\"type\":\"Plot\"}},\"id\":\"ac00b236-8fe7-4422-9784-f6b12d89528b\",\"type\":\"SaveTool\"},{\"attributes\":{\"plot\":{\"id\":\"022877aa-4735-426c-9401-a2719a3b3cde\",\"subtype\":\"Figure\",\"type\":\"Plot\"}},\"id\":\"3d32ee53-84ed-469f-80d5-7cbe7c8ec478\",\"type\":\"PanTool\"},{\"attributes\":{\"formatter\":{\"id\":\"3423f941-1aed-422d-8a39-d62a2d01a03d\",\"type\":\"BasicTickFormatter\"},\"plot\":{\"id\":\"4580d804-0b81-4052-9b23-607d1488e3bd\",\"subtype\":\"Figure\",\"type\":\"Plot\"},\"ticker\":{\"id\":\"89d42765-2532-41a1-94f9-476d56112b30\",\"type\":\"BasicTicker\"}},\"id\":\"d6ba2daf-6b1e-4713-9c92-054338075c17\",\"type\":\"LinearAxis\"},{\"attributes\":{\"formatter\":{\"id\":\"fe57472c-92aa-4ac0-a2cb-4db3ffa1ceee\",\"type\":\"BasicTickFormatter\"},\"plot\":{\"id\":\"4580d804-0b81-4052-9b23-607d1488e3bd\",\"subtype\":\"Figure\",\"type\":\"Plot\"},\"ticker\":{\"id\":\"9244ebfc-5289-4e04-9a89-d608958bee94\",\"type\":\"BasicTicker\"}},\"id\":\"f86e36be-004e-4bfb-9a98-0f6b11a27ab6\",\"type\":\"LinearAxis\"},{\"attributes\":{\"dimension\":1,\"plot\":{\"id\":\"022877aa-4735-426c-9401-a2719a3b3cde\",\"subtype\":\"Figure\",\"type\":\"Plot\"},\"ticker\":{\"id\":\"e8ea8878-e091-4f09-a449-1b4c1b70956b\",\"type\":\"BasicTicker\"}},\"id\":\"fadf364a-ba1f-4a4b-8e50-c1f31bc559f9\",\"type\":\"Grid\"},{\"attributes\":{\"plot\":{\"id\":\"05a32739-467f-4993-ad19-8af596228bc4\",\"subtype\":\"Figure\",\"type\":\"Plot\"}},\"id\":\"00fac0a2-e9b4-4b94-8501-f613818e556b\",\"type\":\"SaveTool\"},{\"attributes\":{\"formatter\":{\"id\":\"9140fe94-f0a4-4a9b-b09f-5e3a8cb355dd\",\"type\":\"BasicTickFormatter\"},\"plot\":{\"id\":\"2c45ec8e-93a8-453e-a79b-9f887d3d558d\",\"subtype\":\"Figure\",\"type\":\"Plot\"},\"ticker\":{\"id\":\"f690927d-3f4a-4e55-abac-ced75f2d927b\",\"type\":\"BasicTicker\"}},\"id\":\"fa3d7365-3ce6-4a39-838b-0f5bfbee6393\",\"type\":\"LinearAxis\"},{\"attributes\":{\"bottom_units\":\"screen\",\"fill_alpha\":{\"value\":0.5},\"fill_color\":{\"value\":\"lightgrey\"},\"left_units\":\"screen\",\"level\":\"overlay\",\"line_alpha\":{\"value\":1.0},\"line_color\":{\"value\":\"black\"},\"line_dash\":[4,4],\"line_width\":{\"value\":2},\"plot\":null,\"render_mode\":\"css\",\"right_units\":\"screen\",\"top_units\":\"screen\"},\"id\":\"a6df27ce-b76e-4002-92ad-83e947b13459\",\"type\":\"BoxAnnotation\"},{\"attributes\":{},\"id\":\"7433268f-17f5-4382-b5a2-bc957ad4bd01\",\"type\":\"ToolEvents\"},{\"attributes\":{\"plot\":{\"id\":\"022877aa-4735-426c-9401-a2719a3b3cde\",\"subtype\":\"Figure\",\"type\":\"Plot\"}},\"id\":\"23fda496-e7b9-413b-8a57-d571155d23db\",\"type\":\"ResizeTool\"},{\"attributes\":{},\"id\":\"9244ebfc-5289-4e04-9a89-d608958bee94\",\"type\":\"BasicTicker\"},{\"attributes\":{\"callback\":null},\"id\":\"c2b36aaf-f978-43b9-942e-19a08a974ba2\",\"type\":\"DataRange1d\"},{\"attributes\":{\"dimension\":1,\"plot\":{\"id\":\"2c45ec8e-93a8-453e-a79b-9f887d3d558d\",\"subtype\":\"Figure\",\"type\":\"Plot\"},\"ticker\":{\"id\":\"f4e1d02e-c239-434d-9a1c-20da7cc8486f\",\"type\":\"BasicTicker\"}},\"id\":\"a8e867ab-cbb2-48cd-a424-47abd5ec1966\",\"type\":\"Grid\"},{\"attributes\":{\"plot\":{\"id\":\"a7d1fd33-5722-4900-a095-79fa33c567d6\",\"subtype\":\"Figure\",\"type\":\"Plot\"}},\"id\":\"c82e71a3-74c1-43c1-8764-ddf0748067a0\",\"type\":\"ResizeTool\"},{\"attributes\":{\"tools\":[{\"id\":\"d843889c-c420-4950-91d2-d374bd0b748c\",\"type\":\"PanTool\"},{\"id\":\"c3f3bf65-097e-4e6c-90de-8b08fdb68f53\",\"type\":\"WheelZoomTool\"},{\"id\":\"d0cc61cc-75fa-4337-9426-8d5f37b3ab74\",\"type\":\"BoxZoomTool\"},{\"id\":\"00fac0a2-e9b4-4b94-8501-f613818e556b\",\"type\":\"SaveTool\"},{\"id\":\"a4529b48-1810-4119-ac28-80c7e63a8c3c\",\"type\":\"ResizeTool\"},{\"id\":\"b5eb3094-8c93-4a01-b357-a541bc681537\",\"type\":\"ResetTool\"},{\"id\":\"88ba0056-88bf-4c2a-9011-b66f8457df4d\",\"type\":\"HelpTool\"}]},\"id\":\"b37c999b-3008-44f9-bc22-c8768daa8190\",\"type\":\"Toolbar\"},{\"attributes\":{\"callback\":null,\"column_names\":[\"y\",\"x\"],\"data\":{\"x\":[1,2],\"y\":[3,4]}},\"id\":\"bafb3110-a591-4aa1-86be-6238f0aaac54\",\"type\":\"ColumnDataSource\"},{\"attributes\":{\"below\":[{\"id\":\"ebc5386a-5866-45be-a203-92f2d8645970\",\"type\":\"LinearAxis\"}],\"left\":[{\"id\":\"4d6c3c24-faad-414d-ba30-0b4e912d63b4\",\"type\":\"LinearAxis\"}],\"plot_height\":100,\"plot_width\":400,\"renderers\":[{\"id\":\"ebc5386a-5866-45be-a203-92f2d8645970\",\"type\":\"LinearAxis\"},{\"id\":\"4816c7f9-45e7-4f68-aff5-a0c4ff3dad93\",\"type\":\"Grid\"},{\"id\":\"4d6c3c24-faad-414d-ba30-0b4e912d63b4\",\"type\":\"LinearAxis\"},{\"id\":\"39b5fbc9-39fd-4522-907e-c9ace3ffbbe0\",\"type\":\"Grid\"},{\"id\":\"9820fe28-fcc1-4767-9098-535d76790c3c\",\"type\":\"BoxAnnotation\"},{\"id\":\"f6bdc99d-5f5e-4fe4-9710-d4a4333e820f\",\"type\":\"GlyphRenderer\"}],\"responsive\":\"width_ar\",\"tool_events\":{\"id\":\"e0ac498f-0c70-4607-bf35-6211193eaa74\",\"type\":\"ToolEvents\"},\"toolbar\":{\"id\":\"b37c999b-3008-44f9-bc22-c8768daa8190\",\"type\":\"Toolbar\"},\"x_range\":{\"id\":\"0e467c76-e3af-431e-95cc-052a3addfd54\",\"type\":\"DataRange1d\"},\"y_range\":{\"id\":\"df305047-fd0b-428e-a91d-f594056d779f\",\"type\":\"DataRange1d\"}},\"id\":\"05a32739-467f-4993-ad19-8af596228bc4\",\"subtype\":\"Figure\",\"type\":\"Plot\"},{\"attributes\":{\"callback\":null},\"id\":\"df305047-fd0b-428e-a91d-f594056d779f\",\"type\":\"DataRange1d\"},{\"attributes\":{\"children\":[{\"id\":\"a7d1fd33-5722-4900-a095-79fa33c567d6\",\"subtype\":\"Figure\",\"type\":\"Plot\"}],\"responsive\":\"width_ar\"},\"id\":\"cc12bf61-4744-4c4f-8918-1c98108aa2e1\",\"type\":\"Row\"},{\"attributes\":{\"fill_alpha\":{\"value\":0.1},\"fill_color\":{\"value\":\"#1f77b4\"},\"line_alpha\":{\"value\":0.1},\"line_color\":{\"value\":\"#1f77b4\"},\"size\":{\"units\":\"screen\",\"value\":20},\"x\":{\"field\":\"x\"},\"y\":{\"field\":\"y\"}},\"id\":\"64e68e9d-9203-4e9e-a60d-d4c841b72a14\",\"type\":\"Circle\"},{\"attributes\":{\"callback\":null,\"column_names\":[\"y\",\"x\"],\"data\":{\"x\":[1,2],\"y\":[3,4]}},\"id\":\"06c91a34-3215-4488-ab66-3a743f410e69\",\"type\":\"ColumnDataSource\"},{\"attributes\":{\"fill_color\":{\"value\":\"#1f77b4\"},\"line_color\":{\"value\":\"#1f77b4\"},\"size\":{\"units\":\"screen\",\"value\":20},\"x\":{\"field\":\"x\"},\"y\":{\"field\":\"y\"}},\"id\":\"ba4c5b9d-4d77-44ed-84c1-36725f85cb98\",\"type\":\"Circle\"},{\"attributes\":{},\"id\":\"6a44932a-73b8-4908-a67f-a1bde41d7c31\",\"type\":\"BasicTickFormatter\"},{\"attributes\":{\"plot\":{\"id\":\"022877aa-4735-426c-9401-a2719a3b3cde\",\"subtype\":\"Figure\",\"type\":\"Plot\"}},\"id\":\"806286f0-756d-4f62-a014-5cbb124869f5\",\"type\":\"HelpTool\"},{\"attributes\":{},\"id\":\"9ca6059c-51c7-4a0d-8887-f1cc80317475\",\"type\":\"ToolEvents\"},{\"attributes\":{\"tools\":[{\"id\":\"287c2ef4-548b-47fa-9916-c8c59e784b23\",\"type\":\"PanTool\"},{\"id\":\"62fc09e4-8624-4603-9aad-998f62dceaae\",\"type\":\"WheelZoomTool\"},{\"id\":\"3a657178-68f7-40e0-b1d4-9960796627fd\",\"type\":\"BoxZoomTool\"},{\"id\":\"96c3b104-f0e1-4e9c-8b81-f8c1b6a98800\",\"type\":\"SaveTool\"},{\"id\":\"ccb7e53d-06fd-41ef-9fae-f24793342cc2\",\"type\":\"ResizeTool\"},{\"id\":\"62e3f121-2f0a-40ca-8c9a-78d2eaf1abf3\",\"type\":\"ResetTool\"},{\"id\":\"61e31957-48c5-48f5-858e-7fe7065e8a2a\",\"type\":\"HelpTool\"}]},\"id\":\"a9e5f431-7f12-4dd5-ad20-be1647da8653\",\"type\":\"Toolbar\"},{\"attributes\":{\"tools\":[{\"id\":\"5cd35342-f209-4d4e-af41-e4972baa4d74\",\"type\":\"PanTool\"},{\"id\":\"d7174220-ff26-4aaf-88a2-177d53b6fcbe\",\"type\":\"WheelZoomTool\"},{\"id\":\"1b4ddfb2-ef16-4f4e-9fab-a54429c60eb3\",\"type\":\"BoxZoomTool\"},{\"id\":\"6c4fea74-d1c5-45de-9ada-9c59dfb3b878\",\"type\":\"SaveTool\"},{\"id\":\"4284272d-b2af-4670-9115-009dfb84ac50\",\"type\":\"ResizeTool\"},{\"id\":\"9aa900c0-fd85-4c5a-9f79-04f16281820e\",\"type\":\"ResetTool\"},{\"id\":\"8fba584b-35a2-4eeb-8947-9f0d8bc04448\",\"type\":\"HelpTool\"}]},\"id\":\"ca8c005b-13c6-4507-b449-9fd08414772f\",\"type\":\"Toolbar\"},{\"attributes\":{\"formatter\":{\"id\":\"79ac7eae-628b-47f1-a480-3967c36438ab\",\"type\":\"BasicTickFormatter\"},\"plot\":{\"id\":\"a7d1fd33-5722-4900-a095-79fa33c567d6\",\"subtype\":\"Figure\",\"type\":\"Plot\"},\"ticker\":{\"id\":\"2394dcd9-140f-4980-abc2-29a22f859257\",\"type\":\"BasicTicker\"}},\"id\":\"29c77608-4951-4769-a81a-f548f842cc41\",\"type\":\"LinearAxis\"},{\"attributes\":{},\"id\":\"89d42765-2532-41a1-94f9-476d56112b30\",\"type\":\"BasicTicker\"},{\"attributes\":{\"plot\":{\"id\":\"4580d804-0b81-4052-9b23-607d1488e3bd\",\"subtype\":\"Figure\",\"type\":\"Plot\"}},\"id\":\"8c1f002c-c7c4-4a88-bed5-0ce6e9b62aad\",\"type\":\"ResetTool\"}],\"root_ids\":[\"31cad3d7-e5d2-45c6-b122-d2411750e387\",\"c805346a-fe63-4eda-8e79-c02aaf4684eb\",\"96867ee8-e4a7-4e00-a952-fedf2ab1476e\"]},\"title\":\"Bokeh Application\",\"version\":\"0.12.0dev10\"}};\n",
       "            var render_items = [{\"docid\":\"b0213aed-64af-4f66-a266-0eb6efe00bc0\",\"elementid\":\"57d3aee7-9ffd-41eb-909a-5c0634e5be1e\",\"modelid\":\"96867ee8-e4a7-4e00-a952-fedf2ab1476e\",\"notebook_comms_target\":\"e14fc465-80d1-4a23-946a-62ef39475168\"}];\n",
       "            \n",
       "            Bokeh.embed.embed_items(docs_json, render_items);\n",
       "        });\n",
       "      },\n",
       "      function(Bokeh) {\n",
       "      }\n",
       "    ];\n",
       "  \n",
       "    function run_inline_js() {\n",
       "      for (var i = 0; i < inline_js.length; i++) {\n",
       "        inline_js[i](window.Bokeh);\n",
       "      }\n",
       "    }\n",
       "  \n",
       "    if (window._bokeh_is_loading === 0) {\n",
       "      console.log(\"Bokeh: BokehJS loaded, going straight to plotting\");\n",
       "      run_inline_js();\n",
       "    } else {\n",
       "      load_libs(js_urls, function() {\n",
       "        console.log(\"Bokeh: BokehJS plotting callback run at\", now());\n",
       "        run_inline_js();\n",
       "      });\n",
       "    }\n",
       "  }(this));\n",
       "</script>"
      ]
     },
     "metadata": {},
     "output_type": "display_data"
    },
    {
     "data": {
      "text/html": [
       "<p><code>&lt;Bokeh Notebook handle for <strong>In[8]</strong>&gt;</code></p>"
      ],
      "text/plain": [
       "<bokeh.io._CommsHandle at 0x104719470>"
      ]
     },
     "execution_count": 8,
     "metadata": {},
     "output_type": "execute_result"
    }
   ],
   "source": [
    "from bokeh.layouts import layout\n",
    "\n",
    "show(layout([[make_plot()], [make_plot()]], responsive='width_ar'))"
   ]
  },
  {
   "cell_type": "markdown",
   "metadata": {},
   "source": [
    "I had to use `responsive='width_ar'` because `responsive=True` isn't currently a valid value for the layout function - I've opened an issue for this (https://github.com/bokeh/bokeh/issues/4469). (Note that's we're also in the process of renaming the responsive modes - I'll update this post, when that's ready)."
   ]
  },
  {
   "cell_type": "code",
   "execution_count": null,
   "metadata": {
    "collapsed": true
   },
   "outputs": [],
   "source": []
  }
 ],
 "metadata": {
  "kernelspec": {
   "display_name": "Python 3",
   "language": "python",
   "name": "python3"
  },
  "language_info": {
   "codemirror_mode": {
    "name": "ipython",
    "version": 3
   },
   "file_extension": ".py",
   "mimetype": "text/x-python",
   "name": "python",
   "nbconvert_exporter": "python",
   "pygments_lexer": "ipython3",
   "version": "3.5.1"
  }
 },
 "nbformat": 4,
 "nbformat_minor": 0
}

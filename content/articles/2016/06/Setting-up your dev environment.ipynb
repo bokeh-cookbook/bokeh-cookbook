{
 "cells": [
  {
   "cell_type": "markdown",
   "metadata": {},
   "source": [
    "At the Pycon 2016 sprints, there were a bunch of folks who wanted to sprint on Bokeh and so needed to setup a development environment.\n",
    "\n",
    "[Eric Ma](https://github.com/ericmjl) kindly put together a script to help people get started here: https://github.com/bokeh/bokeh/issues/4427 but then new things came to light.\n",
    "\n",
    "Hopefully this is now a useful guide to getting started developing bokeh."
   ]
  },
  {
   "cell_type": "markdown",
   "metadata": {},
   "source": [
    "### Install conda\n",
    "\n",
    "You don't have to do this, but its the simplest most repeatable way to get everything you need to install bokeh installed in a repeatable way (including non-python packages).\n",
    "\n",
    "I use miniconda, which is \"a minimal distribution of Python containing only Python, the conda package and environment manager, and only the packages needed by Python or conda\" [source](https://docs.continuum.io/anaconda/index).\n",
    "\n",
    "Download your version here: http://conda.pydata.org/miniconda.html\n",
    "\n",
    "I would recommend the python3.5 version. Note: you don't need python3.5 to run it, it gives you python 3.5 by default.\n",
    "\n",
    "Also worth noting that although it gives you a distribution of python, it isn't going to eat your system python or virtual env or anything else you have set-up on your local machine. And if you decide you don't like it (hasn't happened yet :D) you should be able to uninstall it without hassle.\n",
    "\n",
    "While I definitely support people using whatever way they want to get setup with Bokeh, using conda is probably the best way if you want to get help if something goes wrong."
   ]
  },
  {
   "cell_type": "markdown",
   "metadata": {},
   "source": [
    "### Set-up your development conda environment \n",
    "\n",
    "This is like a virtualenv if you're familiar with them. We create a conda environment called bokeh-dev and we install python 3.4 in it (we use python 3.4 because there are a number of dependencies for bokeh that don't have python 3.5 versions built yet).\n",
    "\n",
    "    $ conda create -n bokeh-dev python=3.4\n",
    "Now we activate the environment:\n",
    "\n",
    "    $ source activate bokeh-dev\n"
   ]
  },
  {
   "cell_type": "markdown",
   "metadata": {},
   "source": [
    "### Fork & clone bokeh\n",
    "\n",
    "If you've never worked on open source before, some of this may be new, and I would recommend \n",
    "reading the following guides from github:\n",
    "\n",
    "* https://help.github.com/articles/fork-a-repo/\n",
    "* https://help.github.com/articles/working-with-forks/\n",
    "* https://help.github.com/articles/syncing-a-fork/\n",
    "\n",
    "Fork the bokeh repo here: https://github.com/bokeh/bokeh and clone your forked copy.\n",
    "\n",
    "From here on, this tutorial assumes you're in the root of the directory you cloned - something like this:\n",
    "\n",
    "```sh\n",
    "(bokeh-dev)➜  bokeh git:(master) ls\n",
    "CHANGELOG        MANIFEST.in      bin              bokehjs          examples   \n",
    "scripts          setup.cfg        sphinx           versioneer.py\n",
    "LICENSE.txt      README.md        bokeh            conda.recipe     requirements.txt \n",
    "secrets.tar.enc  setup.py         tests\n",
    "```"
   ]
  },
  {
   "cell_type": "markdown",
   "metadata": {},
   "source": [
    "### Install the bokeh dependencies\n",
    "\n",
    "We have a script for this, but I tried to use it and it isn't quite working (as of June 4, 2016 - I'm working on a PR to fix it). So in the meantime.\n",
    "\n",
    "    \n",
    "* Install bokeh core dependencies\n",
    "\n",
    "```sh\n",
    "$ conda install nodejs six python-dateutil numpy yaml pyyaml jinja2 tornado requests futures-compat -c bokeh -c javascript\n",
    "``` \n",
    "    \n",
    "* Install bokeh test, docs and examples dependencies\n",
    "\n",
    "```sh\n",
    "$ conda install graphviz pygments sphinx colorama coverage flake8 mock pandas pytest pytest-cov==1.8.1 pytest-selenium pytest-xdist pytest-rerunfailures beautiful-soup scipy pillow boto jupyter matplotlib sympy ggplot seaborn flask flexx -c bokeh\n",
    "```"
   ]
  },
  {
   "cell_type": "markdown",
   "metadata": {},
   "source": [
    "### Install the javascript dependencies\n",
    "\n",
    "We go into the `bokehjs` directory, and use node's npm to install the dependencies\n",
    "\n",
    "```sh\n",
    "$ cd bokehjs\n",
    "$ npm install\n",
    "```\n",
    "\n",
    "This may take a while, and afterwards you should see a new `node_modules` directory:\n",
    "\n",
    "```sh\n",
    "(bokeh-dev)➜  bokehjs git:(master) ✗ ls\n",
    "CHANGELOG.md    LICENSE         examples        gulpfile.js     package.json    test\n",
    "CONTRIBUTING.md README.md       gulp            node_modules    src             typings.json\n",
    "```"
   ]
  },
  {
   "cell_type": "markdown",
   "metadata": {},
   "source": [
    "### Let's try building bokeh\n",
    "\n",
    "We go up one level to the root directory and use setup.py to build bokeh for the first time.\n",
    "\n",
    "```sh\n",
    "$ cd ..\n",
    "$ python setup.py develop --build-js\n",
    "```\n",
    "\n",
    "This will take 30s to a minute as it takes a while to build and minify bokehjs.\n",
    "\n",
    "Hopefully this all went to plan, and now we can try running the tests or running some examples."
   ]
  },
  {
   "cell_type": "markdown",
   "metadata": {},
   "source": [
    "### Running the tests\n",
    "\n",
    "Bokeh has lots of tests. Some of them are not that easy or necessary to run locally, so it's good to be specific. \n",
    "\n",
    "To run the python unit tests:\n",
    "\n",
    "```sh\n",
    "$ ulimit -n 1024\n",
    "$ py.test -m 'not (integration or js or examples)' \n",
    "```\n",
    "\n",
    "(The `ulimit` step is because some of our tests open a lot of files to test the server and this makes it work - we should probably add this into our test suite somehow)\n",
    "\n",
    "\n",
    "To run the javascript unit tests you have two options - directly with the javascript packages or through py.test.\n",
    "\n",
    "* Through py.test\n",
    "\n",
    "```sh\n",
    "$ py.test -m js\n",
    "```\n",
    "\n",
    "* With js packages\n",
    "\n",
    "```sh\n",
    "$ cd bokehjs\n",
    "$ ./node_modules/gulp/bin/gulp.js test\n",
    "```\n",
    "\n",
    "To run the integration tests:\n",
    "\n",
    "```sh\n",
    "$ py.test -m integration\n",
    "```\n",
    "\n",
    "The integration tests are selenium tests and so when you want to run them you should see lots of firefox browser windows pop up.\n",
    "\n",
    "You can speed up any python tests by adding `-n 4` (or any number) to run the tests in parallel over multiple cpu cores.\n",
    "\n",
    "The keen-eyed will have noticed that we haven't run the examples tests. These require a little more work and aren't really necessary to run locally - especially if you're just getting started with bokeh.\n",
    "\n",
    "More on testing here: http://bokeh.pydata.org/en/dev/docs/dev_guide/testing.html"
   ]
  },
  {
   "cell_type": "markdown",
   "metadata": {},
   "source": [
    "### Running the examples\n",
    "\n",
    "See the [post on running examples](/blog/2016/06/05/running-bokeh-examples/). In particular, go to the end to see how to use your newly built local copy of bokeh [/blog/2016/06/05/running-bokeh-examples#Running-with-locally-installed-bokeh-(advanced)](/blog/2016/06/05/running-bokeh-examples#Running-with-locally-installed-bokeh-(advanced))"
   ]
  },
  {
   "cell_type": "markdown",
   "metadata": {},
   "source": [
    "### Running the docs\n",
    "\n",
    "\n",
    "We want to make sure that we use the locally built version of bokehjs when building our docs\n",
    "\n",
    "```sh\n",
    "$ export BOKEH_DOCS_CDN=local\n",
    "```\n",
    "\n",
    "We can now go into the sphinx directory where all our docs are stored and build and then locally serve the docs.\n",
    "\n",
    "```sh\n",
    "$ cd sphinx\n",
    "$ make clean all\n",
    "$ make serve\n",
    "```\n",
    "\n"
   ]
  }
 ],
 "metadata": {
  "kernelspec": {
   "display_name": "Python 3",
   "language": "python",
   "name": "python3"
  },
  "language_info": {
   "codemirror_mode": {
    "name": "ipython",
    "version": 3
   },
   "file_extension": ".py",
   "mimetype": "text/x-python",
   "name": "python",
   "nbconvert_exporter": "python",
   "pygments_lexer": "ipython3",
   "version": "3.5.1"
  }
 },
 "nbformat": 4,
 "nbformat_minor": 0
}

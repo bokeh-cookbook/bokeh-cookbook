{
 "cells": [
  {
   "cell_type": "markdown",
   "metadata": {},
   "source": [
    "At the Pycon 2016 sprints, there were a bunch of folks who wanted to sprint on Bokeh and so needed to setup a development environment.\n",
    "\n",
    "[Eric Ma](https://github.com/ericmjl) put together this script to help people get started. (I tweaked it slightly)."
   ]
  },
  {
   "cell_type": "markdown",
   "metadata": {},
   "source": [
    "    # A script that gets new contributors up and running asap.\n",
    "    # \n",
    "    # Author: Eric J. Ma, MIT, github: @ericmjl\n",
    "    # Help from:\n",
    "    # - Andrea Grant, Univ. Minnesota, github: @andreagrant\n",
    "    # - Michael Gilbert, github: @zyell\n",
    "    # \n",
    "    # Written during the PyCon 2016 Sprints.\n",
    "    # \n",
    "    # Purpose: The script creates a new conda environment called \n",
    "    # \"bokehdev\", activates it, installs all dependencies as determined by\n",
    "    # going through the documentation page and manually checking,\n",
    "    # and executes the commands in order. We wrote this script because\n",
    "    # we ourselves were going through some trouble getting setup, and\n",
    "    # want to save others their time.\n",
    "    # \n",
    "    #! /usr/bin/sh\n",
    "    \n",
    "    cd ..\n",
    "    conda create -n \"bokehdev\" python=3.5\n",
    "    source activate bokehdev\n",
    "    cd bokehjs\n",
    "    \n",
    "    # Install bokeh and node.js & dependencies.\n",
    "    conda install -y bokeh nodejs jupyter flexx nbformat\n",
    "    \n",
    "    # Then remove bokeh so that we can re-install in development mode.\n",
    "    conda remove bokeh -y\n",
    "    npm install\n",
    "    cd ..\n",
    "    python setup.py develop --build-js\n",
    "    conda install -y flask matplotlib docutils pygments pyyaml seaborn sphinx yaml patsy statsmodels pytest\n",
    "    pip install --upgrade pip\n",
    "    pip install brewer2mpl graphviz\n",
    "    pip install ggplot sphinxcontrib-httpdomain\n",
    "    pip install beautifulsoup4 colorama pytest pytest-cov pytest-selenium mock websocket-client"
   ]
  },
  {
   "cell_type": "markdown",
   "metadata": {},
   "source": [
    "To then run the docs.\n",
    "\n",
    "    #! /usr/bin/sh\n",
    "    cd sphinx\n",
    "    export BOKEH_DOCS_CDN=\"local\"\n",
    "    make all\n",
    "    make serve"
   ]
  }
 ],
 "metadata": {
  "kernelspec": {
   "display_name": "Python 3",
   "language": "python",
   "name": "python3"
  },
  "language_info": {
   "codemirror_mode": {
    "name": "ipython",
    "version": 3
   },
   "file_extension": ".py",
   "mimetype": "text/x-python",
   "name": "python",
   "nbconvert_exporter": "python",
   "pygments_lexer": "ipython3",
   "version": "3.5.1"
  }
 },
 "nbformat": 4,
 "nbformat_minor": 0
}
